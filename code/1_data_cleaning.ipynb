{
  "cells": [
    {
      "cell_type": "markdown",
      "id": "24b9ae2b",
      "metadata": {
        "id": "24b9ae2b"
      },
      "source": [
        "# Configure pyspark session"
      ]
    },
    {
      "cell_type": "code",
      "execution_count": null,
      "id": "b7390331",
      "metadata": {
        "id": "b7390331",
        "outputId": "8a63ca38-ca51-4737-faee-6ff91f762db0"
      },
      "outputs": [
        {
          "data": {
            "text/html": [
              "Current session configs: <tt>{'executorMemory': '3G', 'driverMemory': '5G', 'executorCores': 1, 'numExecutors': 30, 'conf': {'spark.dynamicAllocation.enabled': 'false', 'spark.sql.parquet.enableVectorizedReader': 'false', 'spark.pyspark.python': 'python3', 'spark.pyspark.virtualenv.enabled': 'true', 'spark.pyspark.virtualenv.type': 'native', 'spark.pyspark.virtualenv.bin.path': '/usr/bin/virtualenv'}, 'proxyUser': 'mikemcc', 'kind': 'pyspark'}</tt><br>"
            ],
            "text/plain": [
              "<IPython.core.display.HTML object>"
            ]
          },
          "metadata": {},
          "output_type": "display_data"
        },
        {
          "data": {
            "text/html": [
              "<table>\n",
              "<tr><th>ID</th><th>YARN Application ID</th><th>Kind</th><th>State</th><th>Spark UI</th><th>Driver log</th><th>User</th><th>Current session?</th></tr><tr><td>159</td><td>application_1681238170162_0159</td><td>pyspark</td><td>idle</td><td><a target=\"_blank\" href=\"http://ip-10-0-5-145.us-west-2.compute.internal:20888/proxy/application_1681238170162_0159/\">Link</a></td><td><a target=\"_blank\" href=\"http://ip-10-0-8-128.us-west-2.compute.internal:8042/node/containerlogs/container_1681238170162_0159_01_000001/livy\">Link</a></td><td>None</td><td></td></tr></table>"
            ],
            "text/plain": [
              "<IPython.core.display.HTML object>"
            ]
          },
          "metadata": {},
          "output_type": "display_data"
        }
      ],
      "source": [
        "%%configure -f\n",
        "{\"executorMemory\": \"3G\",\n",
        " \"driverMemory\":\"5G\",\n",
        " \"executorCores\": 1,\n",
        " \"numExecutors\": 30, \n",
        " \"conf\": {\"spark.dynamicAllocation.enabled\": \"false\", \n",
        "          \"spark.sql.parquet.enableVectorizedReader\": \"false\", \n",
        "          \"spark.pyspark.python\": \"python3\",\n",
        "          \"spark.pyspark.virtualenv.enabled\": \"true\",\n",
        "          \"spark.pyspark.virtualenv.type\": \"native\",\n",
        "          \"spark.pyspark.virtualenv.bin.path\": \"/usr/bin/virtualenv\"}}"
      ]
    },
    {
      "cell_type": "markdown",
      "id": "e48522b8",
      "metadata": {
        "id": "e48522b8"
      },
      "source": [
        "# Libraries"
      ]
    },
    {
      "cell_type": "code",
      "execution_count": null,
      "id": "3fa00bf4",
      "metadata": {
        "id": "3fa00bf4",
        "outputId": "de721a06-9c6e-465c-d6ea-183e51ab8bb8",
        "colab": {
          "referenced_widgets": [
            ""
          ]
        }
      },
      "outputs": [
        {
          "data": {
            "application/vnd.jupyter.widget-view+json": {
              "model_id": "",
              "version_major": 2,
              "version_minor": 0
            },
            "text/plain": [
              "FloatProgress(value=0.0, bar_style='info', description='Progress:', layout=Layout(height='25px', width='50%'),…"
            ]
          },
          "metadata": {},
          "output_type": "display_data"
        }
      ],
      "source": [
        "from pyspark.sql.functions import sum, col, regexp_extract\n",
        "from pyspark.ml.feature import OneHotEncoder, StringIndexer, VectorAssembler\n",
        "from pyspark.ml import Pipeline"
      ]
    },
    {
      "cell_type": "code",
      "execution_count": null,
      "id": "0ed33793",
      "metadata": {
        "id": "0ed33793"
      },
      "outputs": [],
      "source": [
        "sc.install_pypi_package(\"matplotlib\")"
      ]
    },
    {
      "cell_type": "code",
      "execution_count": null,
      "id": "b4ac4088",
      "metadata": {
        "id": "b4ac4088",
        "outputId": "392a3613-fd3c-4701-f9fb-cba381f35832",
        "colab": {
          "referenced_widgets": [
            ""
          ]
        }
      },
      "outputs": [
        {
          "data": {
            "application/vnd.jupyter.widget-view+json": {
              "model_id": "",
              "version_major": 2,
              "version_minor": 0
            },
            "text/plain": [
              "FloatProgress(value=0.0, bar_style='info', description='Progress:', layout=Layout(height='25px', width='50%'),…"
            ]
          },
          "metadata": {},
          "output_type": "display_data"
        }
      ],
      "source": [
        "import matplotlib.pyplot as plt"
      ]
    },
    {
      "cell_type": "markdown",
      "id": "ae2ab5ec",
      "metadata": {
        "id": "ae2ab5ec"
      },
      "source": [
        "# Import Data"
      ]
    },
    {
      "cell_type": "code",
      "execution_count": null,
      "id": "124e5f48",
      "metadata": {
        "id": "124e5f48",
        "outputId": "353b62aa-689d-4aeb-dae2-5b9df2e3fd33",
        "colab": {
          "referenced_widgets": [
            ""
          ]
        }
      },
      "outputs": [
        {
          "name": "stdout",
          "output_type": "stream",
          "text": [
            "Starting Spark application\n"
          ]
        },
        {
          "data": {
            "text/html": [
              "<table>\n",
              "<tr><th>ID</th><th>YARN Application ID</th><th>Kind</th><th>State</th><th>Spark UI</th><th>Driver log</th><th>User</th><th>Current session?</th></tr><tr><td>161</td><td>application_1681238170162_0161</td><td>pyspark</td><td>idle</td><td><a target=\"_blank\" href=\"http://ip-10-0-5-145.us-west-2.compute.internal:20888/proxy/application_1681238170162_0161/\">Link</a></td><td><a target=\"_blank\" href=\"http://ip-10-0-8-128.us-west-2.compute.internal:8042/node/containerlogs/container_1681238170162_0161_01_000001/livy\">Link</a></td><td>None</td><td>✔</td></tr></table>"
            ],
            "text/plain": [
              "<IPython.core.display.HTML object>"
            ]
          },
          "metadata": {},
          "output_type": "display_data"
        },
        {
          "data": {
            "application/vnd.jupyter.widget-view+json": {
              "model_id": "",
              "version_major": 2,
              "version_minor": 0
            },
            "text/plain": [
              "FloatProgress(value=0.0, bar_style='info', description='Progress:', layout=Layout(height='25px', width='50%'),…"
            ]
          },
          "metadata": {},
          "output_type": "display_data"
        },
        {
          "name": "stdout",
          "output_type": "stream",
          "text": [
            "SparkSession available as 'spark'.\n"
          ]
        },
        {
          "data": {
            "application/vnd.jupyter.widget-view+json": {
              "model_id": "",
              "version_major": 2,
              "version_minor": 0
            },
            "text/plain": [
              "FloatProgress(value=0.0, bar_style='info', description='Progress:', layout=Layout(height='25px', width='50%'),…"
            ]
          },
          "metadata": {},
          "output_type": "display_data"
        }
      ],
      "source": [
        "raw = spark.read.load('s3://msbx5420-spr23/team_mba/accepted_2007_to_2018Q4.csv', \n",
        "                      format = 'csv', sep =',', \n",
        "                      inferSchema = 'true', header = 'true')"
      ]
    },
    {
      "cell_type": "code",
      "execution_count": null,
      "id": "8ca04858",
      "metadata": {
        "id": "8ca04858",
        "outputId": "e5a36d6d-c715-4fb3-f854-61aa6cfec952",
        "colab": {
          "referenced_widgets": [
            ""
          ]
        }
      },
      "outputs": [
        {
          "data": {
            "application/vnd.jupyter.widget-view+json": {
              "model_id": "",
              "version_major": 2,
              "version_minor": 0
            },
            "text/plain": [
              "FloatProgress(value=0.0, bar_style='info', description='Progress:', layout=Layout(height='25px', width='50%'),…"
            ]
          },
          "metadata": {},
          "output_type": "display_data"
        },
        {
          "name": "stdout",
          "output_type": "stream",
          "text": [
            "(2260701, 151)"
          ]
        }
      ],
      "source": [
        "# size of original data (rows, columns)\n",
        "print((raw.count(), len(raw.columns)))"
      ]
    },
    {
      "cell_type": "code",
      "execution_count": null,
      "id": "bd277cb0",
      "metadata": {
        "id": "bd277cb0",
        "outputId": "e4f4c770-265e-4c38-90b6-9a18a52b4a0e",
        "colab": {
          "referenced_widgets": [
            ""
          ]
        }
      },
      "outputs": [
        {
          "data": {
            "application/vnd.jupyter.widget-view+json": {
              "model_id": "",
              "version_major": 2,
              "version_minor": 0
            },
            "text/plain": [
              "FloatProgress(value=0.0, bar_style='info', description='Progress:', layout=Layout(height='25px', width='50%'),…"
            ]
          },
          "metadata": {},
          "output_type": "display_data"
        },
        {
          "name": "stdout",
          "output_type": "stream",
          "text": [
            "(2260701, 151)"
          ]
        }
      ],
      "source": [
        "df = raw\n",
        "print((df.count(), len(df.columns)))"
      ]
    },
    {
      "cell_type": "markdown",
      "id": "ead826b1",
      "metadata": {
        "id": "ead826b1"
      },
      "source": [
        "# Handle Missing Values"
      ]
    },
    {
      "cell_type": "code",
      "execution_count": null,
      "id": "15bdfbc8",
      "metadata": {
        "id": "15bdfbc8",
        "outputId": "e103c604-4c45-4f73-8a99-4852230fc29a",
        "colab": {
          "referenced_widgets": [
            ""
          ]
        }
      },
      "outputs": [
        {
          "data": {
            "application/vnd.jupyter.widget-view+json": {
              "model_id": "",
              "version_major": 2,
              "version_minor": 0
            },
            "text/plain": [
              "FloatProgress(value=0.0, bar_style='info', description='Progress:', layout=Layout(height='25px', width='50%'),…"
            ]
          },
          "metadata": {},
          "output_type": "display_data"
        },
        {
          "data": {
            "text/html": [
              "<table><tr><th>id</th><th>loan_amnt</th><th>funded_amnt</th><th>term</th><th>int_rate</th><th>installment</th><th>sub_grade</th><th>emp_length</th><th>home_ownership</th><th>annual_inc</th><th>verification_status</th><th>loan_status</th><th>pymnt_plan</th><th>purpose</th><th>zip_code</th><th>addr_state</th><th>dti</th><th>delinq_2yrs</th><th>fico_range_low</th><th>fico_range_high</th><th>inq_last_6mths</th><th>mths_since_last_delinq</th><th>mths_since_last_record</th><th>open_acc</th><th>pub_rec</th><th>revol_bal</th><th>revol_util</th><th>total_acc</th><th>out_prncp</th><th>out_prncp_inv</th><th>total_pymnt</th><th>total_pymnt_inv</th><th>total_rec_prncp</th><th>total_rec_int</th><th>total_rec_late_fee</th><th>recoveries</th><th>collection_recovery_fee</th><th>last_pymnt_amnt</th><th>last_fico_range_high</th><th>last_fico_range_low</th><th>collections_12_mths_ex_med</th><th>mths_since_last_major_derog</th><th>policy_code</th><th>application_type</th><th>annual_inc_joint</th><th>dti_joint</th><th>verification_status_joint</th><th>acc_now_delinq</th><th>tot_coll_amt</th><th>tot_cur_bal</th><th>open_acc_6m</th><th>open_act_il</th><th>open_il_12m</th><th>open_il_24m</th><th>mths_since_rcnt_il</th><th>total_bal_il</th><th>il_util</th><th>open_rv_12m</th><th>open_rv_24m</th><th>max_bal_bc</th><th>all_util</th><th>total_rev_hi_lim</th><th>inq_fi</th><th>total_cu_tl</th><th>inq_last_12m</th><th>acc_open_past_24mths</th><th>avg_cur_bal</th><th>bc_open_to_buy</th><th>bc_util</th><th>chargeoff_within_12_mths</th><th>delinq_amnt</th><th>mo_sin_old_il_acct</th><th>mo_sin_old_rev_tl_op</th><th>mo_sin_rcnt_rev_tl_op</th><th>mo_sin_rcnt_tl</th><th>mort_acc</th><th>mths_since_recent_bc</th><th>mths_since_recent_bc_dlq</th><th>mths_since_recent_inq</th><th>mths_since_recent_revol_delinq</th><th>num_accts_ever_120_pd</th><th>num_actv_bc_tl</th><th>num_actv_rev_tl</th><th>num_bc_sats</th><th>num_bc_tl</th><th>num_il_tl</th><th>num_op_rev_tl</th><th>num_rev_accts</th><th>num_rev_tl_bal_gt_0</th><th>num_sats</th><th>num_tl_120dpd_2m</th><th>num_tl_30dpd</th><th>num_tl_90g_dpd_24m</th><th>num_tl_op_past_12m</th><th>pct_tl_nvr_dlq</th><th>percent_bc_gt_75</th><th>pub_rec_bankruptcies</th><th>tax_liens</th><th>tot_hi_cred_lim</th><th>total_bal_ex_mort</th><th>total_bc_limit</th><th>total_il_high_credit_limit</th><th>revol_bal_joint</th><th>sec_app_fico_range_low</th><th>sec_app_fico_range_high</th><th>sec_app_inq_last_6mths</th><th>sec_app_mort_acc</th><th>sec_app_open_acc</th><th>sec_app_revol_util</th><th>sec_app_open_act_il</th><th>sec_app_num_rev_accts</th><th>sec_app_mths_since_last_major_derog</th><th>disbursement_method</th><th>debt_settlement_flag</th></tr><tr><td>0</td><td>33</td><td>33</td><td>33</td><td>33</td><td>33</td><td>33</td><td>146940</td><td>33</td><td>37</td><td>33</td><td>33</td><td>33</td><td>34</td><td>35</td><td>34</td><td>1745</td><td>63</td><td>34</td><td>34</td><td>64</td><td>1158374</td><td>1901354</td><td>143</td><td>125</td><td>87</td><td>1867</td><td>83</td><td>50</td><td>54</td><td>46</td><td>44</td><td>42</td><td>36</td><td>36</td><td>35</td><td>39</td><td>36</td><td>76</td><td>68</td><td>201</td><td>1679686</td><td>99</td><td>88</td><td>2139788</td><td>2139829</td><td>2144839</td><td>221</td><td>70176</td><td>70204</td><td>866068</td><td>866092</td><td>866117</td><td>866124</td><td>909923</td><td>866133</td><td>1068859</td><td>866146</td><td>866142</td><td>866150</td><td>866374</td><td>70304</td><td>866155</td><td>866153</td><td>866161</td><td>50060</td><td>70376</td><td>74966</td><td>76103</td><td>432</td><td>258</td><td>139003</td><td>70225</td><td>70249</td><td>70271</td><td>50038</td><td>73425</td><td>1740974</td><td>295446</td><td>1520323</td><td>70297</td><td>70300</td><td>70307</td><td>58621</td><td>70307</td><td>70302</td><td>70302</td><td>70308</td><td>70307</td><td>58621</td><td>153689</td><td>70309</td><td>70307</td><td>70307</td><td>70463</td><td>75411</td><td>1637</td><td>338</td><td>70212</td><td>49981</td><td>50003</td><td>70271</td><td>2152654</td><td>2152660</td><td>2152655</td><td>2152665</td><td>2152667</td><td>2152671</td><td>2154514</td><td>2152678</td><td>2152678</td><td>2224757</td><td>288</td><td>226</td></tr></table><br /><pre></pre>"
            ],
            "text/plain": [
              "<IPython.core.display.HTML object>"
            ]
          },
          "metadata": {},
          "output_type": "display_data"
        }
      ],
      "source": [
        "%%pretty\n",
        "# view count of missing values by feature:\n",
        "missing_values = df.agg(*[sum(col(c).isNull().cast(\"int\")).alias(c) for c in df.columns])\n",
        "\n",
        "# show the result\n",
        "missing_values.show()"
      ]
    },
    {
      "cell_type": "code",
      "execution_count": null,
      "id": "eea10eaa",
      "metadata": {
        "id": "eea10eaa",
        "outputId": "0980602e-2af4-4227-debd-14d8aea11363",
        "colab": {
          "referenced_widgets": [
            ""
          ]
        }
      },
      "outputs": [
        {
          "data": {
            "application/vnd.jupyter.widget-view+json": {
              "model_id": "",
              "version_major": 2,
              "version_minor": 0
            },
            "text/plain": [
              "FloatProgress(value=0.0, bar_style='info', description='Progress:', layout=Layout(height='25px', width='50%'),…"
            ]
          },
          "metadata": {},
          "output_type": "display_data"
        },
        {
          "name": "stdout",
          "output_type": "stream",
          "text": [
            "(2260701, 114)"
          ]
        }
      ],
      "source": [
        "# drop the following extraneous/unnecessary/leakage features:\n",
        "drop = ['member_id', 'emp_title', 'url', 'desc', 'title', 'issue_date', 'next_payment_d', \n",
        "        'debt_settlement_flag_date', 'settlement_status', 'settlement_date', 'settlement_amount', \n",
        "        'settlement_percentage', 'settlement_term', 'funded_amt', 'funded_amnt_inv', 'next_pymnt_d',\n",
        "        'last_pymnt_d', 'sec_app_chargeoff_within_12_mths', 'sec_app_collections_12_mths_ex_med',\n",
        "        'hardship_flag', 'hardship_type', 'hardship_reason', 'deferral_term', 'hardship_amount',\n",
        "        'hardship_start_date', 'hardship_end_date', 'payment_plan_start_date', 'grade', 'issue_d',\n",
        "        'hardship_length', 'hardship_dpd', 'hardship_loan_status', 'orig_projected_additional_accrued_interest',\n",
        "        'hardship_payoff_balance_amount', 'hardship_last_payment_amount', 'hardship_status',\n",
        "        'sec_app_earliest_cr_line', 'earliest_cr_line', 'initial_list_status', 'last_credit_pull_d',\n",
        "       ]\n",
        "df = df.drop(*drop)\n",
        "print((df.count(), len(df.columns)))"
      ]
    },
    {
      "cell_type": "code",
      "execution_count": null,
      "id": "099b16f8",
      "metadata": {
        "id": "099b16f8",
        "outputId": "39c2f268-efb7-4762-e1ed-121ff6a2014e",
        "colab": {
          "referenced_widgets": [
            ""
          ]
        }
      },
      "outputs": [
        {
          "data": {
            "application/vnd.jupyter.widget-view+json": {
              "model_id": "",
              "version_major": 2,
              "version_minor": 0
            },
            "text/plain": [
              "FloatProgress(value=0.0, bar_style='info', description='Progress:', layout=Layout(height='25px', width='50%'),…"
            ]
          },
          "metadata": {},
          "output_type": "display_data"
        },
        {
          "name": "stdout",
          "output_type": "stream",
          "text": [
            "(2207227, 114)"
          ]
        }
      ],
      "source": [
        "# drop rows with missing values in the following features:\n",
        "drop = ['revol_util', 'mort_acc', 'pub_rec_bankruptcies', 'dti', 'inq_last_6mths', 'open_acc',\n",
        "        'pub_rec', 'revol_bal', 'revol_util', 'total_acc', 'out_prncp',\n",
        "        'out_prncp_inv', 'total_pymnt', 'total_pymnt_inv', 'total_rec_prncp', 'total_rec_int',\n",
        "        'total_rec_late_fee', 'recoveries', 'collection_recovery_fee', 'purpose',\n",
        "        'zip_code', 'policy_code', 'acc_now_delinq']\n",
        "df = df.dropna(subset = drop)\n",
        "print((df.count(), len(df.columns)))"
      ]
    },
    {
      "cell_type": "code",
      "execution_count": null,
      "id": "8307c57e",
      "metadata": {
        "id": "8307c57e",
        "outputId": "3a7c33ce-4726-42d1-9d1f-c7d180e23164",
        "colab": {
          "referenced_widgets": [
            ""
          ]
        }
      },
      "outputs": [
        {
          "data": {
            "application/vnd.jupyter.widget-view+json": {
              "model_id": "",
              "version_major": 2,
              "version_minor": 0
            },
            "text/plain": [
              "FloatProgress(value=0.0, bar_style='info', description='Progress:', layout=Layout(height='25px', width='50%'),…"
            ]
          },
          "metadata": {},
          "output_type": "display_data"
        }
      ],
      "source": [
        "# replace missing employment length with '< 1 year'\n",
        "# replace missing months since, etc columns with zero\n",
        "df = df.fillna({'emp_length': '< 1 year', 'mths_since_last_delinq': 0, 'mths_since_last_record':0,\n",
        "                'mths_since_last_major_derog':0, 'annual_inc_joint': 0, 'dti_joint':0,\n",
        "                'verification_status_joint':'Not Verified', 'tot_coll_amt': 0,\n",
        "                'tot_cur_bal':0, 'open_acc_6m':0, 'open_act_il':0, 'open_il_12m':0, 'open_il_24m':0,\n",
        "                'mths_since_rcnt_il':0, 'total_bal_il':0, 'il_util':0, 'open_rv_12m':0,\n",
        "                'open_rv_24m':0, 'max_bal_bc':0, 'all_util':0, 'total_rev_hi_lim':0, 'inq_fi':0,\n",
        "                'total_cu_tl':0, 'acc_open_past_24mths':0, 'avg_cur_bal':0, 'bc_open_to_buy':0,\n",
        "                'bc_util':0, 'mo_sin_old_il_acct':0, 'inq_last_12m':0, 'mo_sin_old_rev_tl_op':0,\n",
        "                'mo_sin_rcnt_rev_tl_op':0, 'mo_sin_rcnt_tl':0, 'mths_since_recent_bc':0, \n",
        "                'mths_since_recent_bc_dlq':0, 'mths_since_recent_inq':0, 'mths_since_recent_revol_delinq':0,\n",
        "                'num_accts_ever_120_pd':0, 'num_actv_bc_tl':0, 'num_actv_rev_tl':0, 'num_bc_sats':0,\n",
        "                'num_bc_tl':0, 'num_il_tl':0, 'num_op_rev_tl':0, 'num_rev_accts':0, \n",
        "                'num_rev_tl_bal_gt_0':0, 'num_sats':0, 'num_tl_120dpd_2m':0, 'num_tl_30dpd':0,\n",
        "                'num_tl_90g_dpd_24m':0, 'num_tl_op_past_12m':0, 'pct_tl_nvr_dlq':0, 'percent_bc_gt_75':0,\n",
        "                'tot_hi_cred_lim':0, 'total_il_high_credit_limit':0, 'revol_bal_joint':0, \n",
        "                'sec_app_fico_range_low':0, 'sec_app_fico_range_high':0,\n",
        "                'sec_app_inq_last_6mths':0, 'sec_app_mort_acc':0, 'sec_app_open_acc':0, \n",
        "                'sec_app_revol_util':0, 'sec_app_open_act_il':0, 'sec_app_num_rev_accts':0,\n",
        "                'sec_app_mths_since_last_major_derog':0, 'disbursement_method':0})"
      ]
    },
    {
      "cell_type": "code",
      "execution_count": null,
      "id": "2389684d",
      "metadata": {
        "id": "2389684d",
        "outputId": "1e07d967-fb6b-4605-ef05-86d034695925",
        "colab": {
          "referenced_widgets": [
            ""
          ]
        }
      },
      "outputs": [
        {
          "data": {
            "application/vnd.jupyter.widget-view+json": {
              "model_id": "",
              "version_major": 2,
              "version_minor": 0
            },
            "text/plain": [
              "FloatProgress(value=0.0, bar_style='info', description='Progress:', layout=Layout(height='25px', width='50%'),…"
            ]
          },
          "metadata": {},
          "output_type": "display_data"
        },
        {
          "data": {
            "text/html": [
              "<table><tr><th>id</th><th>loan_amnt</th><th>funded_amnt</th><th>term</th><th>int_rate</th><th>installment</th><th>sub_grade</th><th>emp_length</th><th>home_ownership</th><th>annual_inc</th><th>verification_status</th><th>loan_status</th><th>pymnt_plan</th><th>purpose</th><th>zip_code</th><th>addr_state</th><th>dti</th><th>delinq_2yrs</th><th>fico_range_low</th><th>fico_range_high</th><th>inq_last_6mths</th><th>mths_since_last_delinq</th><th>mths_since_last_record</th><th>open_acc</th><th>pub_rec</th><th>revol_bal</th><th>revol_util</th><th>total_acc</th><th>out_prncp</th><th>out_prncp_inv</th><th>total_pymnt</th><th>total_pymnt_inv</th><th>total_rec_prncp</th><th>total_rec_int</th><th>total_rec_late_fee</th><th>recoveries</th><th>collection_recovery_fee</th><th>last_pymnt_amnt</th><th>last_fico_range_high</th><th>last_fico_range_low</th><th>collections_12_mths_ex_med</th><th>mths_since_last_major_derog</th><th>policy_code</th><th>application_type</th><th>annual_inc_joint</th><th>dti_joint</th><th>verification_status_joint</th><th>acc_now_delinq</th><th>tot_coll_amt</th><th>tot_cur_bal</th><th>open_acc_6m</th><th>open_act_il</th><th>open_il_12m</th><th>open_il_24m</th><th>mths_since_rcnt_il</th><th>total_bal_il</th><th>il_util</th><th>open_rv_12m</th><th>open_rv_24m</th><th>max_bal_bc</th><th>all_util</th><th>total_rev_hi_lim</th><th>inq_fi</th><th>total_cu_tl</th><th>inq_last_12m</th><th>acc_open_past_24mths</th><th>avg_cur_bal</th><th>bc_open_to_buy</th><th>bc_util</th><th>chargeoff_within_12_mths</th><th>delinq_amnt</th><th>mo_sin_old_il_acct</th><th>mo_sin_old_rev_tl_op</th><th>mo_sin_rcnt_rev_tl_op</th><th>mo_sin_rcnt_tl</th><th>mort_acc</th><th>mths_since_recent_bc</th><th>mths_since_recent_bc_dlq</th><th>mths_since_recent_inq</th><th>mths_since_recent_revol_delinq</th><th>num_accts_ever_120_pd</th><th>num_actv_bc_tl</th><th>num_actv_rev_tl</th><th>num_bc_sats</th><th>num_bc_tl</th><th>num_il_tl</th><th>num_op_rev_tl</th><th>num_rev_accts</th><th>num_rev_tl_bal_gt_0</th><th>num_sats</th><th>num_tl_120dpd_2m</th><th>num_tl_30dpd</th><th>num_tl_90g_dpd_24m</th><th>num_tl_op_past_12m</th><th>pct_tl_nvr_dlq</th><th>percent_bc_gt_75</th><th>pub_rec_bankruptcies</th><th>tax_liens</th><th>tot_hi_cred_lim</th><th>total_bal_ex_mort</th><th>total_bc_limit</th><th>total_il_high_credit_limit</th><th>revol_bal_joint</th><th>sec_app_fico_range_low</th><th>sec_app_fico_range_high</th><th>sec_app_inq_last_6mths</th><th>sec_app_mort_acc</th><th>sec_app_open_acc</th><th>sec_app_revol_util</th><th>sec_app_open_act_il</th><th>sec_app_num_rev_accts</th><th>sec_app_mths_since_last_major_derog</th><th>disbursement_method</th><th>debt_settlement_flag</th></tr><tr><td>0</td><td>0</td><td>0</td><td>0</td><td>0</td><td>0</td><td>0</td><td>0</td><td>0</td><td>0</td><td>0</td><td>0</td><td>0</td><td>0</td><td>0</td><td>0</td><td>0</td><td>0</td><td>0</td><td>0</td><td>0</td><td>0</td><td>0</td><td>0</td><td>0</td><td>0</td><td>0</td><td>0</td><td>0</td><td>0</td><td>0</td><td>0</td><td>0</td><td>0</td><td>0</td><td>0</td><td>0</td><td>0</td><td>0</td><td>0</td><td>0</td><td>0</td><td>0</td><td>0</td><td>0</td><td>0</td><td>0</td><td>0</td><td>0</td><td>0</td><td>0</td><td>0</td><td>0</td><td>0</td><td>0</td><td>0</td><td>0</td><td>0</td><td>0</td><td>0</td><td>0</td><td>0</td><td>0</td><td>0</td><td>0</td><td>0</td><td>0</td><td>0</td><td>0</td><td>0</td><td>0</td><td>0</td><td>0</td><td>0</td><td>0</td><td>0</td><td>0</td><td>0</td><td>0</td><td>0</td><td>0</td><td>0</td><td>0</td><td>0</td><td>0</td><td>0</td><td>0</td><td>0</td><td>0</td><td>0</td><td>0</td><td>0</td><td>0</td><td>0</td><td>0</td><td>0</td><td>0</td><td>0</td><td>0</td><td>0</td><td>0</td><td>0</td><td>0</td><td>0</td><td>0</td><td>0</td><td>0</td><td>0</td><td>0</td><td>0</td><td>0</td><td>0</td><td>0</td><td>0</td></tr></table><br /><pre></pre>"
            ],
            "text/plain": [
              "<IPython.core.display.HTML object>"
            ]
          },
          "metadata": {},
          "output_type": "display_data"
        }
      ],
      "source": [
        "%%pretty\n",
        "missing_values = df.agg(*[(sum(col(c).isNull().cast(\"int\")).alias(c)) for c in df.columns])\n",
        "missing_values.show()"
      ]
    },
    {
      "cell_type": "code",
      "execution_count": null,
      "id": "60121c88",
      "metadata": {
        "id": "60121c88",
        "outputId": "15c31f5d-a2b2-4f58-c9b2-bce98c029c09",
        "colab": {
          "referenced_widgets": [
            ""
          ]
        }
      },
      "outputs": [
        {
          "data": {
            "application/vnd.jupyter.widget-view+json": {
              "model_id": "",
              "version_major": 2,
              "version_minor": 0
            },
            "text/plain": [
              "FloatProgress(value=0.0, bar_style='info', description='Progress:', layout=Layout(height='25px', width='50%'),…"
            ]
          },
          "metadata": {},
          "output_type": "display_data"
        },
        {
          "name": "stdout",
          "output_type": "stream",
          "text": [
            "(2207227, 114)"
          ]
        }
      ],
      "source": [
        "print((df.count(), len(df.columns)))"
      ]
    },
    {
      "cell_type": "markdown",
      "id": "d3fa4a9d",
      "metadata": {
        "id": "d3fa4a9d"
      },
      "source": [
        "# Data Analysis"
      ]
    },
    {
      "cell_type": "code",
      "execution_count": null,
      "id": "26eb976c",
      "metadata": {
        "id": "26eb976c",
        "outputId": "0482b46d-4371-4028-8019-68e34e5f71e6",
        "colab": {
          "referenced_widgets": [
            ""
          ]
        }
      },
      "outputs": [
        {
          "data": {
            "application/vnd.jupyter.widget-view+json": {
              "model_id": "",
              "version_major": 2,
              "version_minor": 0
            },
            "text/plain": [
              "FloatProgress(value=0.0, bar_style='info', description='Progress:', layout=Layout(height='25px', width='50%'),…"
            ]
          },
          "metadata": {},
          "output_type": "display_data"
        }
      ],
      "source": [
        "# separate databy loan_status into current, late, and default\n",
        "current = df.filter(df.loan_status.isin(['Fully Paid', 'Current', 'In Grace Period']))\n",
        "late = df.filter(df.loan_status.isin(['Late (31-120 days)', 'Late (16-30 days)']))\n",
        "defaulted = df.filter(df.loan_status.isin(['Default', 'Charged Off']))"
      ]
    },
    {
      "cell_type": "code",
      "execution_count": null,
      "id": "306f3f09",
      "metadata": {
        "id": "306f3f09",
        "outputId": "b32c4eee-1fc6-4dab-9873-0ee3a714154a",
        "colab": {
          "referenced_widgets": [
            ""
          ]
        }
      },
      "outputs": [
        {
          "data": {
            "application/vnd.jupyter.widget-view+json": {
              "model_id": "",
              "version_major": 2,
              "version_minor": 0
            },
            "text/plain": [
              "FloatProgress(value=0.0, bar_style='info', description='Progress:', layout=Layout(height='25px', width='50%'),…"
            ]
          },
          "metadata": {},
          "output_type": "display_data"
        },
        {
          "data": {
            "text/html": [
              "<table><tr><th>id</th><th>member_id</th><th>loan_amnt</th><th>funded_amnt</th><th>funded_amnt_inv</th><th>term</th><th>int_rate</th><th>installment</th><th>grade</th><th>sub_grade</th><th>emp_title</th><th>emp_length</th><th>home_ownership</th><th>annual_inc</th><th>verification_status</th><th>issue_d</th><th>loan_status</th><th>pymnt_plan</th><th>url</th><th>desc</th><th>purpose</th><th>title</th><th>zip_code</th><th>addr_state</th><th>dti</th><th>delinq_2yrs</th><th>earliest_cr_line</th><th>fico_range_low</th><th>fico_range_high</th><th>inq_last_6mths</th><th>mths_since_last_delinq</th><th>mths_since_last_record</th><th>open_acc</th><th>pub_rec</th><th>revol_bal</th><th>revol_util</th><th>total_acc</th><th>initial_list_status</th><th>out_prncp</th><th>out_prncp_inv</th><th>total_pymnt</th><th>total_pymnt_inv</th><th>total_rec_prncp</th><th>total_rec_int</th><th>total_rec_late_fee</th><th>recoveries</th><th>collection_recovery_fee</th><th>last_pymnt_d</th><th>last_pymnt_amnt</th><th>next_pymnt_d</th><th>last_credit_pull_d</th><th>last_fico_range_high</th><th>last_fico_range_low</th><th>collections_12_mths_ex_med</th><th>mths_since_last_major_derog</th><th>policy_code</th><th>application_type</th><th>annual_inc_joint</th><th>dti_joint</th><th>verification_status_joint</th><th>acc_now_delinq</th><th>tot_coll_amt</th><th>tot_cur_bal</th><th>open_acc_6m</th><th>open_act_il</th><th>open_il_12m</th><th>open_il_24m</th><th>mths_since_rcnt_il</th><th>total_bal_il</th><th>il_util</th><th>open_rv_12m</th><th>open_rv_24m</th><th>max_bal_bc</th><th>all_util</th><th>total_rev_hi_lim</th><th>inq_fi</th><th>total_cu_tl</th><th>inq_last_12m</th><th>acc_open_past_24mths</th><th>avg_cur_bal</th><th>bc_open_to_buy</th><th>bc_util</th><th>chargeoff_within_12_mths</th><th>delinq_amnt</th><th>mo_sin_old_il_acct</th><th>mo_sin_old_rev_tl_op</th><th>mo_sin_rcnt_rev_tl_op</th><th>mo_sin_rcnt_tl</th><th>mort_acc</th><th>mths_since_recent_bc</th><th>mths_since_recent_bc_dlq</th><th>mths_since_recent_inq</th><th>mths_since_recent_revol_delinq</th><th>num_accts_ever_120_pd</th><th>num_actv_bc_tl</th><th>num_actv_rev_tl</th><th>num_bc_sats</th><th>num_bc_tl</th><th>num_il_tl</th><th>num_op_rev_tl</th><th>num_rev_accts</th><th>num_rev_tl_bal_gt_0</th><th>num_sats</th><th>num_tl_120dpd_2m</th><th>num_tl_30dpd</th><th>num_tl_90g_dpd_24m</th><th>num_tl_op_past_12m</th><th>pct_tl_nvr_dlq</th><th>percent_bc_gt_75</th><th>pub_rec_bankruptcies</th><th>tax_liens</th><th>tot_hi_cred_lim</th><th>total_bal_ex_mort</th><th>total_bc_limit</th><th>total_il_high_credit_limit</th><th>revol_bal_joint</th><th>sec_app_fico_range_low</th><th>sec_app_fico_range_high</th><th>sec_app_earliest_cr_line</th><th>sec_app_inq_last_6mths</th><th>sec_app_mort_acc</th><th>sec_app_open_acc</th><th>sec_app_revol_util</th><th>sec_app_open_act_il</th><th>sec_app_num_rev_accts</th><th>sec_app_chargeoff_within_12_mths</th><th>sec_app_collections_12_mths_ex_med</th><th>sec_app_mths_since_last_major_derog</th><th>hardship_flag</th><th>hardship_type</th><th>hardship_reason</th><th>hardship_status</th><th>deferral_term</th><th>hardship_amount</th><th>hardship_start_date</th><th>hardship_end_date</th><th>payment_plan_start_date</th><th>hardship_length</th><th>hardship_dpd</th><th>hardship_loan_status</th><th>orig_projected_additional_accrued_interest</th><th>hardship_payoff_balance_amount</th><th>hardship_last_payment_amount</th><th>disbursement_method</th><th>debt_settlement_flag</th><th>debt_settlement_flag_date</th><th>settlement_status</th><th>settlement_date</th><th>settlement_amount</th><th>settlement_percentage</th><th>settlement_term</th></tr><tr><td>68407277</td><td>null</td><td>3600.0</td><td>3600.0</td><td>3600.0</td><td>36 months</td><td>13.99</td><td>123.03</td><td>C</td><td>C4</td><td>leadman</td><td>10+ years</td><td>MORTGAGE</td><td>55000.0</td><td>Not Verified</td><td>Dec-2015</td><td>Fully Paid</td><td>n</td><td>https://lendingcl...</td><td>null</td><td>debt_consolidation</td><td>Debt consolidation</td><td>190xx</td><td>PA</td><td>5.91</td><td>0.0</td><td>Aug-2003</td><td>675.0</td><td>679.0</td><td>1.0</td><td>30.0</td><td>null</td><td>7.0</td><td>0.0</td><td>2765.0</td><td>29.7</td><td>13.0</td><td>w</td><td>0.0</td><td>0.0</td><td>4421.723916800001</td><td>4421.72</td><td>3600.0</td><td>821.72</td><td>0.0</td><td>0.0</td><td>0.0</td><td>Jan-2019</td><td>122.67</td><td>null</td><td>Mar-2019</td><td>564.0</td><td>560.0</td><td>0.0</td><td>30.0</td><td>1.0</td><td>Individual</td><td>null</td><td>null</td><td>null</td><td>0.0</td><td>722.0</td><td>144904.0</td><td>2.0</td><td>2.0</td><td>0.0</td><td>1.0</td><td>21.0</td><td>4981.0</td><td>36.0</td><td>3.0</td><td>3.0</td><td>722.0</td><td>34.0</td><td>9300.0</td><td>3.0</td><td>1.0</td><td>4.0</td><td>4.0</td><td>20701.0</td><td>1506.0</td><td>37.2</td><td>0.0</td><td>0.0</td><td>148.0</td><td>128.0</td><td>3.0</td><td>3.0</td><td>1.0</td><td>4.0</td><td>69.0</td><td>4.0</td><td>69.0</td><td>2.0</td><td>2.0</td><td>4.0</td><td>2.0</td><td>5.0</td><td>3.0</td><td>4.0</td><td>9.0</td><td>4.0</td><td>7.0</td><td>0.0</td><td>0.0</td><td>0.0</td><td>3.0</td><td>76.9</td><td>0.0</td><td>0.0</td><td>0.0</td><td>178050.0</td><td>7746.0</td><td>2400.0</td><td>13734.0</td><td>null</td><td>null</td><td>null</td><td>null</td><td>null</td><td>null</td><td>null</td><td>null</td><td>null</td><td>null</td><td>null</td><td>null</td><td>null</td><td>N</td><td>null</td><td>null</td><td>null</td><td>null</td><td>null</td><td>null</td><td>null</td><td>null</td><td>null</td><td>null</td><td>null</td><td>null</td><td>null</td><td>null</td><td>Cash</td><td>N</td><td>null</td><td>null</td><td>null</td><td>null</td><td>null</td><td>null</td></tr><tr><td>68355089</td><td>null</td><td>24700.0</td><td>24700.0</td><td>24700.0</td><td>36 months</td><td>11.99</td><td>820.28</td><td>C</td><td>C1</td><td>Engineer</td><td>10+ years</td><td>MORTGAGE</td><td>65000.0</td><td>Not Verified</td><td>Dec-2015</td><td>Fully Paid</td><td>n</td><td>https://lendingcl...</td><td>null</td><td>small_business</td><td>Business</td><td>577xx</td><td>SD</td><td>16.06</td><td>1.0</td><td>Dec-1999</td><td>715.0</td><td>719.0</td><td>4.0</td><td>6.0</td><td>null</td><td>22.0</td><td>0.0</td><td>21470.0</td><td>19.2</td><td>38.0</td><td>w</td><td>0.0</td><td>0.0</td><td>25679.66</td><td>25679.66</td><td>24700.0</td><td>979.66</td><td>0.0</td><td>0.0</td><td>0.0</td><td>Jun-2016</td><td>926.35</td><td>null</td><td>Mar-2019</td><td>699.0</td><td>695.0</td><td>0.0</td><td>null</td><td>1.0</td><td>Individual</td><td>null</td><td>null</td><td>null</td><td>0.0</td><td>0.0</td><td>204396.0</td><td>1.0</td><td>1.0</td><td>0.0</td><td>1.0</td><td>19.0</td><td>18005.0</td><td>73.0</td><td>2.0</td><td>3.0</td><td>6472.0</td><td>29.0</td><td>111800.0</td><td>0.0</td><td>0.0</td><td>6.0</td><td>4.0</td><td>9733.0</td><td>57830.0</td><td>27.1</td><td>0.0</td><td>0.0</td><td>113.0</td><td>192.0</td><td>2.0</td><td>2.0</td><td>4.0</td><td>2.0</td><td>null</td><td>0.0</td><td>6.0</td><td>0.0</td><td>5.0</td><td>5.0</td><td>13.0</td><td>17.0</td><td>6.0</td><td>20.0</td><td>27.0</td><td>5.0</td><td>22.0</td><td>0.0</td><td>0.0</td><td>0.0</td><td>2.0</td><td>97.4</td><td>7.7</td><td>0.0</td><td>0.0</td><td>314017.0</td><td>39475.0</td><td>79300.0</td><td>24667.0</td><td>null</td><td>null</td><td>null</td><td>null</td><td>null</td><td>null</td><td>null</td><td>null</td><td>null</td><td>null</td><td>null</td><td>null</td><td>null</td><td>N</td><td>null</td><td>null</td><td>null</td><td>null</td><td>null</td><td>null</td><td>null</td><td>null</td><td>null</td><td>null</td><td>null</td><td>null</td><td>null</td><td>null</td><td>Cash</td><td>N</td><td>null</td><td>null</td><td>null</td><td>null</td><td>null</td><td>null</td></tr><tr><td>68341763</td><td>null</td><td>20000.0</td><td>20000.0</td><td>20000.0</td><td>60 months</td><td>10.78</td><td>432.66</td><td>B</td><td>B4</td><td>truck driver</td><td>10+ years</td><td>MORTGAGE</td><td>63000.0</td><td>Not Verified</td><td>Dec-2015</td><td>Fully Paid</td><td>n</td><td>https://lendingcl...</td><td>null</td><td>home_improvement</td><td>null</td><td>605xx</td><td>IL</td><td>10.78</td><td>0.0</td><td>Aug-2000</td><td>695.0</td><td>699.0</td><td>0.0</td><td>null</td><td>null</td><td>6.0</td><td>0.0</td><td>7869.0</td><td>56.2</td><td>18.0</td><td>w</td><td>0.0</td><td>0.0</td><td>22705.924293878397</td><td>22705.92</td><td>20000.0</td><td>2705.92</td><td>0.0</td><td>0.0</td><td>0.0</td><td>Jun-2017</td><td>15813.3</td><td>null</td><td>Mar-2019</td><td>704.0</td><td>700.0</td><td>0.0</td><td>null</td><td>1.0</td><td>Joint App</td><td>71000.0</td><td>13.85</td><td>Not Verified</td><td>0.0</td><td>0.0</td><td>189699.0</td><td>0.0</td><td>1.0</td><td>0.0</td><td>4.0</td><td>19.0</td><td>10827.0</td><td>73.0</td><td>0.0</td><td>2.0</td><td>2081.0</td><td>65.0</td><td>14000.0</td><td>2.0</td><td>5.0</td><td>1.0</td><td>6.0</td><td>31617.0</td><td>2737.0</td><td>55.9</td><td>0.0</td><td>0.0</td><td>125.0</td><td>184.0</td><td>14.0</td><td>14.0</td><td>5.0</td><td>101.0</td><td>null</td><td>10.0</td><td>null</td><td>0.0</td><td>2.0</td><td>3.0</td><td>2.0</td><td>4.0</td><td>6.0</td><td>4.0</td><td>7.0</td><td>3.0</td><td>6.0</td><td>0.0</td><td>0.0</td><td>0.0</td><td>0.0</td><td>100.0</td><td>50.0</td><td>0.0</td><td>0.0</td><td>218418.0</td><td>18696.0</td><td>6200.0</td><td>14877.0</td><td>null</td><td>null</td><td>null</td><td>null</td><td>null</td><td>null</td><td>null</td><td>null</td><td>null</td><td>null</td><td>null</td><td>null</td><td>null</td><td>N</td><td>null</td><td>null</td><td>null</td><td>null</td><td>null</td><td>null</td><td>null</td><td>null</td><td>null</td><td>null</td><td>null</td><td>null</td><td>null</td><td>null</td><td>Cash</td><td>N</td><td>null</td><td>null</td><td>null</td><td>null</td><td>null</td><td>null</td></tr><tr><td>66310712</td><td>null</td><td>35000.0</td><td>35000.0</td><td>35000.0</td><td>60 months</td><td>14.85</td><td>829.9</td><td>C</td><td>C5</td><td>Information Syste...</td><td>10+ years</td><td>MORTGAGE</td><td>110000.0</td><td>Source Verified</td><td>Dec-2015</td><td>Current</td><td>n</td><td>https://lendingcl...</td><td>null</td><td>debt_consolidation</td><td>Debt consolidation</td><td>076xx</td><td>NJ</td><td>17.06</td><td>0.0</td><td>Sep-2008</td><td>785.0</td><td>789.0</td><td>0.0</td><td>null</td><td>null</td><td>13.0</td><td>0.0</td><td>7802.0</td><td>11.6</td><td>17.0</td><td>w</td><td>15897.65</td><td>15897.65</td><td>31464.01</td><td>31464.01</td><td>19102.35</td><td>12361.66</td><td>0.0</td><td>0.0</td><td>0.0</td><td>Feb-2019</td><td>829.9</td><td>Apr-2019</td><td>Mar-2019</td><td>679.0</td><td>675.0</td><td>0.0</td><td>null</td><td>1.0</td><td>Individual</td><td>null</td><td>null</td><td>null</td><td>0.0</td><td>0.0</td><td>301500.0</td><td>1.0</td><td>1.0</td><td>0.0</td><td>1.0</td><td>23.0</td><td>12609.0</td><td>70.0</td><td>1.0</td><td>1.0</td><td>6987.0</td><td>45.0</td><td>67300.0</td><td>0.0</td><td>1.0</td><td>0.0</td><td>2.0</td><td>23192.0</td><td>54962.0</td><td>12.1</td><td>0.0</td><td>0.0</td><td>36.0</td><td>87.0</td><td>2.0</td><td>2.0</td><td>1.0</td><td>2.0</td><td>null</td><td>null</td><td>null</td><td>0.0</td><td>4.0</td><td>5.0</td><td>8.0</td><td>10.0</td><td>2.0</td><td>10.0</td><td>13.0</td><td>5.0</td><td>13.0</td><td>0.0</td><td>0.0</td><td>0.0</td><td>1.0</td><td>100.0</td><td>0.0</td><td>0.0</td><td>0.0</td><td>381215.0</td><td>52226.0</td><td>62500.0</td><td>18000.0</td><td>null</td><td>null</td><td>null</td><td>null</td><td>null</td><td>null</td><td>null</td><td>null</td><td>null</td><td>null</td><td>null</td><td>null</td><td>null</td><td>N</td><td>null</td><td>null</td><td>null</td><td>null</td><td>null</td><td>null</td><td>null</td><td>null</td><td>null</td><td>null</td><td>null</td><td>null</td><td>null</td><td>null</td><td>Cash</td><td>N</td><td>null</td><td>null</td><td>null</td><td>null</td><td>null</td><td>null</td></tr><tr><td>68476807</td><td>null</td><td>10400.0</td><td>10400.0</td><td>10400.0</td><td>60 months</td><td>22.45</td><td>289.91</td><td>F</td><td>F1</td><td>Contract Specialist</td><td>3 years</td><td>MORTGAGE</td><td>104433.0</td><td>Source Verified</td><td>Dec-2015</td><td>Fully Paid</td><td>n</td><td>https://lendingcl...</td><td>null</td><td>major_purchase</td><td>Major purchase</td><td>174xx</td><td>PA</td><td>25.37</td><td>1.0</td><td>Jun-1998</td><td>695.0</td><td>699.0</td><td>3.0</td><td>12.0</td><td>null</td><td>12.0</td><td>0.0</td><td>21929.0</td><td>64.5</td><td>35.0</td><td>w</td><td>0.0</td><td>0.0</td><td>11740.5</td><td>11740.5</td><td>10400.0</td><td>1340.5</td><td>0.0</td><td>0.0</td><td>0.0</td><td>Jul-2016</td><td>10128.96</td><td>null</td><td>Mar-2018</td><td>704.0</td><td>700.0</td><td>0.0</td><td>null</td><td>1.0</td><td>Individual</td><td>null</td><td>null</td><td>null</td><td>0.0</td><td>0.0</td><td>331730.0</td><td>1.0</td><td>3.0</td><td>0.0</td><td>3.0</td><td>14.0</td><td>73839.0</td><td>84.0</td><td>4.0</td><td>7.0</td><td>9702.0</td><td>78.0</td><td>34000.0</td><td>2.0</td><td>1.0</td><td>3.0</td><td>10.0</td><td>27644.0</td><td>4567.0</td><td>77.5</td><td>0.0</td><td>0.0</td><td>128.0</td><td>210.0</td><td>4.0</td><td>4.0</td><td>6.0</td><td>4.0</td><td>12.0</td><td>1.0</td><td>12.0</td><td>0.0</td><td>4.0</td><td>6.0</td><td>5.0</td><td>9.0</td><td>10.0</td><td>7.0</td><td>19.0</td><td>6.0</td><td>12.0</td><td>0.0</td><td>0.0</td><td>0.0</td><td>4.0</td><td>96.6</td><td>60.0</td><td>0.0</td><td>0.0</td><td>439570.0</td><td>95768.0</td><td>20300.0</td><td>88097.0</td><td>null</td><td>null</td><td>null</td><td>null</td><td>null</td><td>null</td><td>null</td><td>null</td><td>null</td><td>null</td><td>null</td><td>null</td><td>null</td><td>N</td><td>null</td><td>null</td><td>null</td><td>null</td><td>null</td><td>null</td><td>null</td><td>null</td><td>null</td><td>null</td><td>null</td><td>null</td><td>null</td><td>null</td><td>Cash</td><td>N</td><td>null</td><td>null</td><td>null</td><td>null</td><td>null</td><td>null</td></tr></table><br /><pre>only showing top 5 rows</pre>"
            ],
            "text/plain": [
              "<IPython.core.display.HTML object>"
            ]
          },
          "metadata": {},
          "output_type": "display_data"
        }
      ],
      "source": [
        "%%pretty\n",
        "df.show(5)"
      ]
    },
    {
      "cell_type": "code",
      "execution_count": null,
      "id": "59d557ae",
      "metadata": {
        "id": "59d557ae",
        "outputId": "2bd1d322-b5d0-4490-eae2-25b849d10a4e",
        "colab": {
          "referenced_widgets": [
            ""
          ]
        }
      },
      "outputs": [
        {
          "data": {
            "application/vnd.jupyter.widget-view+json": {
              "model_id": "",
              "version_major": 2,
              "version_minor": 0
            },
            "text/plain": [
              "FloatProgress(value=0.0, bar_style='info', description='Progress:', layout=Layout(height='25px', width='50%'),…"
            ]
          },
          "metadata": {},
          "output_type": "display_data"
        },
        {
          "data": {
            "image/png": "[encoded data removed]",
            "text/plain": [
              "<IPython.core.display.Image object>"
            ]
          },
          "metadata": {},
          "output_type": "display_data"
        }
      ],
      "source": [
        "# features to iterate over\n",
        "features = ['loan_amnt']\n",
        "\n",
        "# iterate over each feature\n",
        "for feature in features:\n",
        "    # create a histogram for the feature\n",
        "    fig, ax = plt.subplots()\n",
        "    current.select(feature).rdd.flatMap(lambda x: x).histogram(10)\n",
        "    ax.set_title(\"Histogram of {}\".format(feature))\n",
        "    plt.show()\n",
        "%matplot plt"
      ]
    },
    {
      "cell_type": "code",
      "execution_count": null,
      "id": "088b53e2",
      "metadata": {
        "id": "088b53e2",
        "outputId": "74fd402b-2481-4440-dca9-9cb8e035e169",
        "colab": {
          "referenced_widgets": [
            ""
          ]
        }
      },
      "outputs": [
        {
          "data": {
            "application/vnd.jupyter.widget-view+json": {
              "model_id": "",
              "version_major": 2,
              "version_minor": 0
            },
            "text/plain": [
              "FloatProgress(value=0.0, bar_style='info', description='Progress:', layout=Layout(height='25px', width='50%'),…"
            ]
          },
          "metadata": {},
          "output_type": "display_data"
        },
        {
          "data": {
            "image/png": "[encoded data removed]",
            "text/plain": [
              "<IPython.core.display.Image object>"
            ]
          },
          "metadata": {},
          "output_type": "display_data"
        }
      ],
      "source": []
    },
    {
      "cell_type": "code",
      "execution_count": null,
      "id": "78dc0a53",
      "metadata": {
        "id": "78dc0a53",
        "outputId": "2c4e7155-d7c1-4771-ec87-ecb8d730e83a",
        "colab": {
          "referenced_widgets": [
            ""
          ]
        }
      },
      "outputs": [
        {
          "data": {
            "application/vnd.jupyter.widget-view+json": {
              "model_id": "",
              "version_major": 2,
              "version_minor": 0
            },
            "text/plain": [
              "FloatProgress(value=0.0, bar_style='info', description='Progress:', layout=Layout(height='25px', width='50%'),…"
            ]
          },
          "metadata": {},
          "output_type": "display_data"
        },
        {
          "name": "stderr",
          "output_type": "stream",
          "text": [
            "An error was encountered:\n",
            "histogram() got an unexpected keyword argument 'ax'\n",
            "Traceback (most recent call last):\n",
            "TypeError: histogram() got an unexpected keyword argument 'ax'\n",
            "\n"
          ]
        }
      ],
      "source": [
        "# list of dataframes to iterate over\n",
        "dataframes = [current, late, defaulted]\n",
        "\n",
        "# features to plot histograms for\n",
        "features = ['loan_amnt', 'grade']\n",
        "\n",
        "# iterate over each feature\n",
        "for dataframe in dataframes:\n",
        "    "
      ]
    },
    {
      "cell_type": "code",
      "execution_count": null,
      "id": "94d9261d",
      "metadata": {
        "id": "94d9261d",
        "outputId": "651418bb-d4a9-4ab0-b54b-bc9c6ebab112",
        "colab": {
          "referenced_widgets": [
            ""
          ]
        }
      },
      "outputs": [
        {
          "data": {
            "application/vnd.jupyter.widget-view+json": {
              "model_id": "",
              "version_major": 2,
              "version_minor": 0
            },
            "text/plain": [
              "FloatProgress(value=0.0, bar_style='info', description='Progress:', layout=Layout(height='25px', width='50%'),…"
            ]
          },
          "metadata": {},
          "output_type": "display_data"
        },
        {
          "name": "stdout",
          "output_type": "stream",
          "text": [
            "id , string\n",
            "member_id , string\n",
            "loan_amnt , double\n",
            "funded_amnt , double\n",
            "funded_amnt_inv , double\n",
            "term , string\n",
            "int_rate , double\n",
            "installment , double\n",
            "grade , string\n",
            "sub_grade , string\n",
            "emp_title , string\n",
            "emp_length , string\n",
            "home_ownership , string\n",
            "annual_inc , string\n",
            "verification_status , string\n",
            "issue_d , string\n",
            "loan_status , string\n",
            "pymnt_plan , string\n",
            "url , string\n",
            "desc , string\n",
            "purpose , string\n",
            "title , string\n",
            "zip_code , string\n",
            "addr_state , string\n",
            "dti , string\n",
            "delinq_2yrs , string\n",
            "earliest_cr_line , string\n",
            "fico_range_low , string\n",
            "fico_range_high , string\n",
            "inq_last_6mths , string\n",
            "mths_since_last_delinq , string\n",
            "mths_since_last_record , string\n",
            "open_acc , string\n",
            "pub_rec , string\n",
            "revol_bal , string\n",
            "revol_util , string\n",
            "total_acc , string\n",
            "initial_list_status , string\n",
            "out_prncp , string\n",
            "out_prncp_inv , string\n",
            "total_pymnt , string\n",
            "total_pymnt_inv , string\n",
            "total_rec_prncp , string\n",
            "total_rec_int , string\n",
            "total_rec_late_fee , string\n",
            "recoveries , string\n",
            "collection_recovery_fee , string\n",
            "last_pymnt_d , string\n",
            "last_pymnt_amnt , string\n",
            "next_pymnt_d , string\n",
            "last_credit_pull_d , string\n",
            "last_fico_range_high , string\n",
            "last_fico_range_low , string\n",
            "collections_12_mths_ex_med , string\n",
            "mths_since_last_major_derog , string\n",
            "policy_code , string\n",
            "application_type , string\n",
            "annual_inc_joint , string\n",
            "dti_joint , string\n",
            "verification_status_joint , string\n",
            "acc_now_delinq , string\n",
            "tot_coll_amt , string\n",
            "tot_cur_bal , string\n",
            "open_acc_6m , string\n",
            "open_act_il , string\n",
            "open_il_12m , string\n",
            "open_il_24m , string\n",
            "mths_since_rcnt_il , string\n",
            "total_bal_il , string\n",
            "il_util , string\n",
            "open_rv_12m , string\n",
            "open_rv_24m , string\n",
            "max_bal_bc , string\n",
            "all_util , string\n",
            "total_rev_hi_lim , string\n",
            "inq_fi , string\n",
            "total_cu_tl , string\n",
            "inq_last_12m , double\n",
            "acc_open_past_24mths , double\n",
            "avg_cur_bal , string\n",
            "bc_open_to_buy , double\n",
            "bc_util , string\n",
            "chargeoff_within_12_mths , double\n",
            "delinq_amnt , double\n",
            "mo_sin_old_il_acct , double\n",
            "mo_sin_old_rev_tl_op , double\n",
            "mo_sin_rcnt_rev_tl_op , double\n",
            "mo_sin_rcnt_tl , double\n",
            "mort_acc , double\n",
            "mths_since_recent_bc , double\n",
            "mths_since_recent_bc_dlq , double\n",
            "mths_since_recent_inq , double\n",
            "mths_since_recent_revol_delinq , double\n",
            "num_accts_ever_120_pd , double\n",
            "num_actv_bc_tl , double\n",
            "num_actv_rev_tl , double\n",
            "num_bc_sats , double\n",
            "num_bc_tl , double\n",
            "num_il_tl , double\n",
            "num_op_rev_tl , double\n",
            "num_rev_accts , double\n",
            "num_rev_tl_bal_gt_0 , double\n",
            "num_sats , double\n",
            "num_tl_120dpd_2m , double\n",
            "num_tl_30dpd , double\n",
            "num_tl_90g_dpd_24m , double\n",
            "num_tl_op_past_12m , double\n",
            "pct_tl_nvr_dlq , double\n",
            "percent_bc_gt_75 , double\n",
            "pub_rec_bankruptcies , double\n",
            "tax_liens , double\n",
            "tot_hi_cred_lim , double\n",
            "total_bal_ex_mort , double\n",
            "total_bc_limit , double\n",
            "total_il_high_credit_limit , double\n",
            "revol_bal_joint , double\n",
            "sec_app_fico_range_low , double\n",
            "sec_app_fico_range_high , double\n",
            "sec_app_earliest_cr_line , string\n",
            "sec_app_inq_last_6mths , double\n",
            "sec_app_mort_acc , double\n",
            "sec_app_open_acc , double\n",
            "sec_app_revol_util , double\n",
            "sec_app_open_act_il , double\n",
            "sec_app_num_rev_accts , double\n",
            "sec_app_chargeoff_within_12_mths , double\n",
            "sec_app_collections_12_mths_ex_med , double\n",
            "sec_app_mths_since_last_major_derog , double\n",
            "hardship_flag , string\n",
            "hardship_type , string\n",
            "hardship_reason , string\n",
            "hardship_status , string\n",
            "deferral_term , string\n",
            "hardship_amount , string\n",
            "hardship_start_date , string\n",
            "hardship_end_date , string\n",
            "payment_plan_start_date , string\n",
            "hardship_length , string\n",
            "hardship_dpd , string\n",
            "hardship_loan_status , string\n",
            "orig_projected_additional_accrued_interest , string\n",
            "hardship_payoff_balance_amount , string\n",
            "hardship_last_payment_amount , string\n",
            "disbursement_method , string\n",
            "debt_settlement_flag , string\n",
            "debt_settlement_flag_date , string\n",
            "settlement_status , string\n",
            "settlement_date , string\n",
            "settlement_amount , string\n",
            "settlement_percentage , string\n",
            "settlement_term , string"
          ]
        }
      ],
      "source": [
        "for col in df.dtypes:\n",
        "    print(col[0]+\" , \"+col[1])"
      ]
    },
    {
      "cell_type": "code",
      "execution_count": null,
      "id": "84bd638e",
      "metadata": {
        "id": "84bd638e",
        "outputId": "689ad5c3-5ed9-4963-f9e0-eb2ffd11cbd3",
        "colab": {
          "referenced_widgets": [
            ""
          ]
        }
      },
      "outputs": [
        {
          "data": {
            "application/vnd.jupyter.widget-view+json": {
              "model_id": "",
              "version_major": 2,
              "version_minor": 0
            },
            "text/plain": [
              "FloatProgress(value=0.0, bar_style='info', description='Progress:', layout=Layout(height='25px', width='50%'),…"
            ]
          },
          "metadata": {},
          "output_type": "display_data"
        }
      ],
      "source": [
        "def histogram(df, col, bins=10, xname=None, yname=None):\n",
        "    \n",
        "    '''\n",
        "    This function makes a histogram from spark dataframe named \n",
        "    df for column name col. \n",
        "    '''\n",
        "    \n",
        "    # Calculating histogram in Spark \n",
        "    vals = df.select(col).rdd.flatMap(lambda x: x).histogram(bins)\n",
        "    \n",
        "    # Preprocessing histogram points and locations \n",
        "    width = vals[0][1] - vals[0][0]\n",
        "    loc = [vals[0][0] + (i+1) * width for i in range(len(vals[1]))]\n",
        "    \n",
        "    # Making a bar plot \n",
        "    plt.bar(loc, vals[1], width=width)\n",
        "    plt.xlabel(col)\n",
        "    plt.ylabel(yname)\n",
        "    plt.show()"
      ]
    },
    {
      "cell_type": "code",
      "execution_count": null,
      "id": "5bf17270",
      "metadata": {
        "id": "5bf17270",
        "outputId": "b9aef664-2a36-4b83-9e39-2e7102bce389",
        "colab": {
          "referenced_widgets": [
            ""
          ]
        }
      },
      "outputs": [
        {
          "data": {
            "application/vnd.jupyter.widget-view+json": {
              "model_id": "",
              "version_major": 2,
              "version_minor": 0
            },
            "text/plain": [
              "FloatProgress(value=0.0, bar_style='info', description='Progress:', layout=Layout(height='25px', width='50%'),…"
            ]
          },
          "metadata": {},
          "output_type": "display_data"
        }
      ],
      "source": [
        "dataframes = ['current', 'late', 'defaulted']\n",
        "features = ['loan_amnt']\n",
        "\n",
        "for dataframe in dataframes:\n",
        "    for feature in features:\n",
        "        histogram(current, feature, bins = 15, yname = feature)"
      ]
    },
    {
      "cell_type": "code",
      "execution_count": null,
      "id": "ca1345aa",
      "metadata": {
        "id": "ca1345aa",
        "outputId": "0865a60c-1f95-44d6-94c7-e2c11acb0844",
        "colab": {
          "referenced_widgets": [
            ""
          ]
        }
      },
      "outputs": [
        {
          "data": {
            "application/vnd.jupyter.widget-view+json": {
              "model_id": "",
              "version_major": 2,
              "version_minor": 0
            },
            "text/plain": [
              "FloatProgress(value=0.0, bar_style='info', description='Progress:', layout=Layout(height='25px', width='50%'),…"
            ]
          },
          "metadata": {},
          "output_type": "display_data"
        },
        {
          "data": {
            "image/png": "[encoded data removed]",
            "text/plain": [
              "<IPython.core.display.Image object>"
            ]
          },
          "metadata": {},
          "output_type": "display_data"
        }
      ],
      "source": [
        "%matplot plt"
      ]
    }
  ],
  "metadata": {
    "kernelspec": {
      "display_name": "PySpark",
      "language": "python",
      "name": "pysparkkernel"
    },
    "language_info": {
      "codemirror_mode": {
        "name": "python",
        "version": 3
      },
      "file_extension": ".py",
      "mimetype": "text/x-python",
      "name": "pyspark",
      "pygments_lexer": "python3"
    },
    "colab": {
      "provenance": []
    }
  },
  "nbformat": 4,
  "nbformat_minor": 5
}