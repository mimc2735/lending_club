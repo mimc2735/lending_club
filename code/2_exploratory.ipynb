{
 "cells": [
  {
   "cell_type": "markdown",
   "id": "1a0bb6f9",
   "metadata": {},
   "source": [
    "# Configure and set up PySpark Session\n"
   ]
  },
  {
   "cell_type": "code",
   "execution_count": 162,
   "id": "83984208",
   "metadata": {},
   "outputs": [
    {
     "data": {
      "application/vnd.jupyter.widget-view+json": {
       "model_id": "",
       "version_major": 2,
       "version_minor": 0
      },
      "text/plain": [
       "FloatProgress(value=0.0, bar_style='info', description='Progress:', layout=Layout(height='25px', width='50%'),…"
      ]
     },
     "metadata": {},
     "output_type": "display_data"
    }
   ],
   "source": [
    "#from pyspark.sql import SparkSession\n",
    "#spark = SparkSession.builder.appName('PySpark App HDFS').getOrCreate()\n",
    "#sc = spark.sparkContext"
   ]
  },
  {
   "cell_type": "code",
   "execution_count": 163,
   "id": "4fd83338",
   "metadata": {},
   "outputs": [
    {
     "data": {
      "application/vnd.jupyter.widget-view+json": {
       "model_id": "",
       "version_major": 2,
       "version_minor": 0
      },
      "text/plain": [
       "FloatProgress(value=0.0, bar_style='info', description='Progress:', layout=Layout(height='25px', width='50%'),…"
      ]
     },
     "metadata": {},
     "output_type": "display_data"
    }
   ],
   "source": [
    "#%%cleanup -f"
   ]
  },
  {
   "cell_type": "code",
   "execution_count": 164,
   "id": "7926d906",
   "metadata": {},
   "outputs": [
    {
     "data": {
      "application/vnd.jupyter.widget-view+json": {
       "model_id": "",
       "version_major": 2,
       "version_minor": 0
      },
      "text/plain": [
       "FloatProgress(value=0.0, bar_style='info', description='Progress:', layout=Layout(height='25px', width='50%'),…"
      ]
     },
     "metadata": {},
     "output_type": "display_data"
    }
   ],
   "source": [
    "# look at sparkmagic, week9"
   ]
  },
  {
   "cell_type": "code",
   "execution_count": 165,
   "id": "c17440b8",
   "metadata": {},
   "outputs": [
    {
     "name": "stdout",
     "output_type": "stream",
     "text": [
      "Starting Spark application\n"
     ]
    },
    {
     "data": {
      "text/html": [
       "<table>\n",
       "<tr><th>ID</th><th>YARN Application ID</th><th>Kind</th><th>State</th><th>Spark UI</th><th>Driver log</th><th>User</th><th>Current session?</th></tr><tr><td>180</td><td>application_1681238170162_0180</td><td>pyspark</td><td>idle</td><td><a target=\"_blank\" href=\"http://ip-10-0-5-145.us-west-2.compute.internal:20888/proxy/application_1681238170162_0180/\">Link</a></td><td><a target=\"_blank\" href=\"http://ip-10-0-8-128.us-west-2.compute.internal:8042/node/containerlogs/container_1681238170162_0180_01_000001/livy\">Link</a></td><td>None</td><td>✔</td></tr></table>"
      ],
      "text/plain": [
       "<IPython.core.display.HTML object>"
      ]
     },
     "metadata": {},
     "output_type": "display_data"
    },
    {
     "data": {
      "application/vnd.jupyter.widget-view+json": {
       "model_id": "",
       "version_major": 2,
       "version_minor": 0
      },
      "text/plain": [
       "FloatProgress(value=0.0, bar_style='info', description='Progress:', layout=Layout(height='25px', width='50%'),…"
      ]
     },
     "metadata": {},
     "output_type": "display_data"
    },
    {
     "name": "stdout",
     "output_type": "stream",
     "text": [
      "SparkSession available as 'spark'.\n"
     ]
    },
    {
     "data": {
      "text/html": [
       "Current session configs: <tt>{'executorMemory': '3G', 'driverMemory': '5G', 'executorCores': 1, 'numExecutors': 10, 'conf': {'spark.dynamicAllocation.enabled': 'false', 'spark.sql.parquet.enableVectorizedReader': 'false', 'spark.pyspark.python': 'python3', 'spark.pyspark.virtualenv.enabled': 'true', 'spark.pyspark.virtualenv.type': 'native', 'spark.pyspark.virtualenv.bin.path': '/usr/bin/virtualenv'}, 'proxyUser': 'chris_fogler', 'kind': 'pyspark'}</tt><br>"
      ],
      "text/plain": [
       "<IPython.core.display.HTML object>"
      ]
     },
     "metadata": {},
     "output_type": "display_data"
    },
    {
     "data": {
      "text/html": [
       "<table>\n",
       "<tr><th>ID</th><th>YARN Application ID</th><th>Kind</th><th>State</th><th>Spark UI</th><th>Driver log</th><th>User</th><th>Current session?</th></tr><tr><td>170</td><td>application_1681238170162_0170</td><td>pyspark</td><td>idle</td><td><a target=\"_blank\" href=\"http://ip-10-0-5-145.us-west-2.compute.internal:20888/proxy/application_1681238170162_0170/\">Link</a></td><td><a target=\"_blank\" href=\"http://ip-10-0-3-102.us-west-2.compute.internal:8042/node/containerlogs/container_1681238170162_0170_01_000001/livy\">Link</a></td><td>None</td><td></td></tr><tr><td>180</td><td>application_1681238170162_0180</td><td>pyspark</td><td>idle</td><td><a target=\"_blank\" href=\"http://ip-10-0-5-145.us-west-2.compute.internal:20888/proxy/application_1681238170162_0180/\">Link</a></td><td><a target=\"_blank\" href=\"http://ip-10-0-8-128.us-west-2.compute.internal:8042/node/containerlogs/container_1681238170162_0180_01_000001/livy\">Link</a></td><td>None</td><td>✔</td></tr></table>"
      ],
      "text/plain": [
       "<IPython.core.display.HTML object>"
      ]
     },
     "metadata": {},
     "output_type": "display_data"
    }
   ],
   "source": [
    "%%configure -f\n",
    "{\"executorMemory\": \"3G\",\n",
    " \"driverMemory\":\"5G\",\n",
    " \"executorCores\": 1,\n",
    " \"numExecutors\": 10, \n",
    " \"conf\": {\"spark.dynamicAllocation.enabled\": \"false\", \n",
    "          \"spark.sql.parquet.enableVectorizedReader\": \"false\", \n",
    "          \"spark.pyspark.python\": \"python3\",\n",
    "          \"spark.pyspark.virtualenv.enabled\": \"true\",\n",
    "          \"spark.pyspark.virtualenv.type\": \"native\",\n",
    "          \"spark.pyspark.virtualenv.bin.path\": \"/usr/bin/virtualenv\"}}\n",
    "\n"
   ]
  },
  {
   "cell_type": "markdown",
   "id": "87cf5878",
   "metadata": {},
   "source": [
    "## If you run these twice, you'll get \n",
    "\n",
    "\"An error was encountered:\n",
    "Package already installed for current Spark context!\"\n",
    "\n",
    "But they should still work."
   ]
  },
  {
   "cell_type": "code",
   "execution_count": 166,
   "id": "21dae015",
   "metadata": {},
   "outputs": [
    {
     "data": {
      "application/vnd.jupyter.widget-view+json": {
       "model_id": "",
       "version_major": 2,
       "version_minor": 0
      },
      "text/plain": [
       "FloatProgress(value=0.0, bar_style='info', description='Progress:', layout=Layout(height='25px', width='50%'),…"
      ]
     },
     "metadata": {},
     "output_type": "display_data"
    },
    {
     "name": "stdout",
     "output_type": "stream",
     "text": [
      "Collecting matplotlib\n",
      "  Downloading matplotlib-3.5.3-cp37-cp37m-manylinux_2_5_x86_64.manylinux1_x86_64.whl (11.2 MB)\n",
      "Requirement already satisfied: numpy>=1.17 in /usr/local/lib64/python3.7/site-packages (from matplotlib) (1.20.0)\n",
      "Requirement already satisfied: packaging>=20.0 in /usr/local/lib64/python3.7/site-packages (from matplotlib) (22.0)\n",
      "Collecting python-dateutil>=2.7\n",
      "  Downloading python_dateutil-2.8.2-py2.py3-none-any.whl (247 kB)\n",
      "Collecting pyparsing>=2.2.1\n",
      "  Downloading pyparsing-3.0.9-py3-none-any.whl (98 kB)\n",
      "Collecting cycler>=0.10\n",
      "  Downloading cycler-0.11.0-py3-none-any.whl (6.4 kB)\n",
      "Collecting kiwisolver>=1.0.1\n",
      "  Downloading kiwisolver-1.4.4-cp37-cp37m-manylinux_2_5_x86_64.manylinux1_x86_64.whl (1.1 MB)\n",
      "Collecting pillow>=6.2.0\n",
      "  Downloading Pillow-9.5.0-cp37-cp37m-manylinux_2_17_x86_64.manylinux2014_x86_64.whl (3.3 MB)\n",
      "Collecting fonttools>=4.22.0\n",
      "  Downloading fonttools-4.38.0-py3-none-any.whl (965 kB)\n",
      "Requirement already satisfied: six>=1.5 in /usr/local/lib/python3.7/site-packages (from python-dateutil>=2.7->matplotlib) (1.13.0)\n",
      "Requirement already satisfied: typing-extensions; python_version < \"3.8\" in /usr/local/lib64/python3.7/site-packages (from kiwisolver>=1.0.1->matplotlib) (4.4.0)\n",
      "Installing collected packages: python-dateutil, pyparsing, cycler, kiwisolver, pillow, fonttools, matplotlib\n",
      "Successfully installed cycler-0.11.0 fonttools-4.38.0 kiwisolver-1.4.4 matplotlib-3.5.3 pillow-9.5.0 pyparsing-3.0.9 python-dateutil-2.8.2\n",
      "\n",
      "WARNING: The directory '/home/.cache/pip' or its parent directory is not owned or is not writable by the current user. The cache has been disabled. Check the permissions and owner of that directory. If executing pip with sudo, you may want sudo's -H flag."
     ]
    }
   ],
   "source": [
    "sc.install_pypi_package('matplotlib')"
   ]
  },
  {
   "cell_type": "code",
   "execution_count": 167,
   "id": "f682d934",
   "metadata": {},
   "outputs": [
    {
     "data": {
      "application/vnd.jupyter.widget-view+json": {
       "model_id": "",
       "version_major": 2,
       "version_minor": 0
      },
      "text/plain": [
       "FloatProgress(value=0.0, bar_style='info', description='Progress:', layout=Layout(height='25px', width='50%'),…"
      ]
     },
     "metadata": {},
     "output_type": "display_data"
    },
    {
     "name": "stdout",
     "output_type": "stream",
     "text": [
      "Collecting PyArrow\n",
      "  Downloading pyarrow-11.0.0-cp37-cp37m-manylinux_2_17_x86_64.manylinux2014_x86_64.whl (35.1 MB)\n",
      "Requirement already satisfied: numpy>=1.16.6 in /usr/local/lib64/python3.7/site-packages (from PyArrow) (1.20.0)\n",
      "Installing collected packages: PyArrow\n",
      "Successfully installed PyArrow-11.0.0\n",
      "\n",
      "WARNING: The directory '/home/.cache/pip' or its parent directory is not owned or is not writable by the current user. The cache has been disabled. Check the permissions and owner of that directory. If executing pip with sudo, you may want sudo's -H flag."
     ]
    }
   ],
   "source": [
    "sc.install_pypi_package('PyArrow')\n"
   ]
  },
  {
   "cell_type": "code",
   "execution_count": 168,
   "id": "ee94ec0f",
   "metadata": {
    "scrolled": true
   },
   "outputs": [
    {
     "data": {
      "application/vnd.jupyter.widget-view+json": {
       "model_id": "",
       "version_major": 2,
       "version_minor": 0
      },
      "text/plain": [
       "FloatProgress(value=0.0, bar_style='info', description='Progress:', layout=Layout(height='25px', width='50%'),…"
      ]
     },
     "metadata": {},
     "output_type": "display_data"
    },
    {
     "name": "stdout",
     "output_type": "stream",
     "text": [
      "Collecting pandas\n",
      "  Downloading pandas-1.3.5-cp37-cp37m-manylinux_2_17_x86_64.manylinux2014_x86_64.whl (11.3 MB)\n",
      "Requirement already satisfied: python-dateutil>=2.7.3 in ./tmp/1681926781792-0/lib/python3.7/site-packages (from pandas) (2.8.2)\n",
      "Requirement already satisfied: numpy>=1.17.3; platform_machine != \"aarch64\" and platform_machine != \"arm64\" and python_version < \"3.10\" in /usr/local/lib64/python3.7/site-packages (from pandas) (1.20.0)\n",
      "Requirement already satisfied: pytz>=2017.3 in /usr/local/lib/python3.7/site-packages (from pandas) (2022.7)\n",
      "Requirement already satisfied: six>=1.5 in /usr/local/lib/python3.7/site-packages (from python-dateutil>=2.7.3->pandas) (1.13.0)\n",
      "Installing collected packages: pandas\n",
      "Successfully installed pandas-1.3.5\n",
      "\n",
      "WARNING: The directory '/home/.cache/pip' or its parent directory is not owned or is not writable by the current user. The cache has been disabled. Check the permissions and owner of that directory. If executing pip with sudo, you may want sudo's -H flag."
     ]
    }
   ],
   "source": [
    "sc.install_pypi_package('pandas')\n"
   ]
  },
  {
   "cell_type": "code",
   "execution_count": 169,
   "id": "d739423b",
   "metadata": {},
   "outputs": [
    {
     "data": {
      "application/vnd.jupyter.widget-view+json": {
       "model_id": "",
       "version_major": 2,
       "version_minor": 0
      },
      "text/plain": [
       "FloatProgress(value=0.0, bar_style='info', description='Progress:', layout=Layout(height='25px', width='50%'),…"
      ]
     },
     "metadata": {},
     "output_type": "display_data"
    },
    {
     "name": "stdout",
     "output_type": "stream",
     "text": [
      "Collecting seaborn\n",
      "  Downloading seaborn-0.12.2-py3-none-any.whl (293 kB)\n",
      "Requirement already satisfied: pandas>=0.25 in ./tmp/1681926781792-0/lib/python3.7/site-packages (from seaborn) (1.3.5)\n",
      "Requirement already satisfied: numpy!=1.24.0,>=1.17 in /usr/local/lib64/python3.7/site-packages (from seaborn) (1.20.0)\n",
      "Requirement already satisfied: typing_extensions; python_version < \"3.8\" in /usr/local/lib64/python3.7/site-packages (from seaborn) (4.4.0)\n",
      "Requirement already satisfied: matplotlib!=3.6.1,>=3.1 in ./tmp/1681926781792-0/lib/python3.7/site-packages (from seaborn) (3.5.3)\n",
      "Requirement already satisfied: python-dateutil>=2.7.3 in ./tmp/1681926781792-0/lib/python3.7/site-packages (from pandas>=0.25->seaborn) (2.8.2)\n",
      "Requirement already satisfied: pytz>=2017.3 in /usr/local/lib/python3.7/site-packages (from pandas>=0.25->seaborn) (2022.7)\n",
      "Requirement already satisfied: packaging>=20.0 in /usr/local/lib64/python3.7/site-packages (from matplotlib!=3.6.1,>=3.1->seaborn) (22.0)\n",
      "Requirement already satisfied: pyparsing>=2.2.1 in ./tmp/1681926781792-0/lib/python3.7/site-packages (from matplotlib!=3.6.1,>=3.1->seaborn) (3.0.9)\n",
      "Requirement already satisfied: cycler>=0.10 in ./tmp/1681926781792-0/lib/python3.7/site-packages (from matplotlib!=3.6.1,>=3.1->seaborn) (0.11.0)\n",
      "Requirement already satisfied: kiwisolver>=1.0.1 in ./tmp/1681926781792-0/lib/python3.7/site-packages (from matplotlib!=3.6.1,>=3.1->seaborn) (1.4.4)\n",
      "Requirement already satisfied: pillow>=6.2.0 in ./tmp/1681926781792-0/lib/python3.7/site-packages (from matplotlib!=3.6.1,>=3.1->seaborn) (9.5.0)\n",
      "Requirement already satisfied: fonttools>=4.22.0 in ./tmp/1681926781792-0/lib/python3.7/site-packages (from matplotlib!=3.6.1,>=3.1->seaborn) (4.38.0)\n",
      "Requirement already satisfied: six>=1.5 in /usr/local/lib/python3.7/site-packages (from python-dateutil>=2.7.3->pandas>=0.25->seaborn) (1.13.0)\n",
      "Installing collected packages: seaborn\n",
      "Successfully installed seaborn-0.12.2\n",
      "\n",
      "WARNING: The directory '/home/.cache/pip' or its parent directory is not owned or is not writable by the current user. The cache has been disabled. Check the permissions and owner of that directory. If executing pip with sudo, you may want sudo's -H flag."
     ]
    }
   ],
   "source": [
    "sc.install_pypi_package('seaborn')"
   ]
  },
  {
   "cell_type": "code",
   "execution_count": 170,
   "id": "8310ee22",
   "metadata": {},
   "outputs": [
    {
     "data": {
      "application/vnd.jupyter.widget-view+json": {
       "model_id": "",
       "version_major": 2,
       "version_minor": 0
      },
      "text/plain": [
       "FloatProgress(value=0.0, bar_style='info', description='Progress:', layout=Layout(height='25px', width='50%'),…"
      ]
     },
     "metadata": {},
     "output_type": "display_data"
    }
   ],
   "source": [
    "import pyspark.sql.functions as fn\n"
   ]
  },
  {
   "cell_type": "code",
   "execution_count": 171,
   "id": "5a339755",
   "metadata": {},
   "outputs": [
    {
     "data": {
      "application/vnd.jupyter.widget-view+json": {
       "model_id": "",
       "version_major": 2,
       "version_minor": 0
      },
      "text/plain": [
       "FloatProgress(value=0.0, bar_style='info', description='Progress:', layout=Layout(height='25px', width='50%'),…"
      ]
     },
     "metadata": {},
     "output_type": "display_data"
    }
   ],
   "source": [
    "import numpy as np\n"
   ]
  },
  {
   "cell_type": "code",
   "execution_count": 172,
   "id": "c52709dd",
   "metadata": {},
   "outputs": [
    {
     "data": {
      "application/vnd.jupyter.widget-view+json": {
       "model_id": "",
       "version_major": 2,
       "version_minor": 0
      },
      "text/plain": [
       "FloatProgress(value=0.0, bar_style='info', description='Progress:', layout=Layout(height='25px', width='50%'),…"
      ]
     },
     "metadata": {},
     "output_type": "display_data"
    }
   ],
   "source": [
    "import pandas as pd"
   ]
  },
  {
   "cell_type": "code",
   "execution_count": 173,
   "id": "57196c16",
   "metadata": {},
   "outputs": [
    {
     "data": {
      "application/vnd.jupyter.widget-view+json": {
       "model_id": "",
       "version_major": 2,
       "version_minor": 0
      },
      "text/plain": [
       "FloatProgress(value=0.0, bar_style='info', description='Progress:', layout=Layout(height='25px', width='50%'),…"
      ]
     },
     "metadata": {},
     "output_type": "display_data"
    }
   ],
   "source": [
    "import matplotlib.pyplot as plt\n"
   ]
  },
  {
   "cell_type": "code",
   "execution_count": 174,
   "id": "95963d2e",
   "metadata": {},
   "outputs": [
    {
     "data": {
      "application/vnd.jupyter.widget-view+json": {
       "model_id": "",
       "version_major": 2,
       "version_minor": 0
      },
      "text/plain": [
       "FloatProgress(value=0.0, bar_style='info', description='Progress:', layout=Layout(height='25px', width='50%'),…"
      ]
     },
     "metadata": {},
     "output_type": "display_data"
    }
   ],
   "source": [
    "import seaborn as sns"
   ]
  },
  {
   "cell_type": "code",
   "execution_count": 175,
   "id": "2edc9685",
   "metadata": {},
   "outputs": [
    {
     "data": {
      "application/vnd.jupyter.widget-view+json": {
       "model_id": "",
       "version_major": 2,
       "version_minor": 0
      },
      "text/plain": [
       "FloatProgress(value=0.0, bar_style='info', description='Progress:', layout=Layout(height='25px', width='50%'),…"
      ]
     },
     "metadata": {},
     "output_type": "display_data"
    }
   ],
   "source": [
    "df = spark.read.format('parquet').load('s3://msbx5420-spr23/team_mba/cleaned_data.parquet')"
   ]
  },
  {
   "cell_type": "markdown",
   "id": "05dac10b",
   "metadata": {},
   "source": [
    "# Analysis"
   ]
  },
  {
   "cell_type": "code",
   "execution_count": 176,
   "id": "5a64dc06",
   "metadata": {},
   "outputs": [
    {
     "data": {
      "application/vnd.jupyter.widget-view+json": {
       "model_id": "",
       "version_major": 2,
       "version_minor": 0
      },
      "text/plain": [
       "FloatProgress(value=0.0, bar_style='info', description='Progress:', layout=Layout(height='25px', width='50%'),…"
      ]
     },
     "metadata": {},
     "output_type": "display_data"
    },
    {
     "data": {
      "text/html": [
       "<table><tr><th>id</th><th>loan_amnt</th><th>funded_amnt</th><th>int_rate</th><th>installment</th><th>sub_grade</th><th>home_ownership</th><th>annual_inc</th><th>verification_status</th><th>loan_status</th><th>pymnt_plan</th><th>purpose</th><th>zip_code</th><th>addr_state</th><th>dti</th><th>delinq_2yrs</th><th>fico_range_low</th><th>fico_range_high</th><th>inq_last_6mths</th><th>mths_since_last_delinq</th><th>mths_since_last_record</th><th>open_acc</th><th>pub_rec</th><th>revol_bal</th><th>revol_util</th><th>total_acc</th><th>out_prncp</th><th>out_prncp_inv</th><th>total_pymnt</th><th>total_pymnt_inv</th><th>total_rec_prncp</th><th>total_rec_int</th><th>total_rec_late_fee</th><th>recoveries</th><th>collection_recovery_fee</th><th>last_pymnt_amnt</th><th>last_fico_range_high</th><th>last_fico_range_low</th><th>collections_12_mths_ex_med</th><th>mths_since_last_major_derog</th><th>policy_code</th><th>application_type</th><th>annual_inc_joint</th><th>dti_joint</th><th>verification_status_joint</th><th>acc_now_delinq</th><th>tot_coll_amt</th><th>tot_cur_bal</th><th>open_acc_6m</th><th>open_act_il</th><th>open_il_12m</th><th>open_il_24m</th><th>mths_since_rcnt_il</th><th>total_bal_il</th><th>il_util</th><th>open_rv_12m</th><th>open_rv_24m</th><th>max_bal_bc</th><th>all_util</th><th>total_rev_hi_lim</th><th>inq_fi</th><th>total_cu_tl</th><th>inq_last_12m</th><th>acc_open_past_24mths</th><th>avg_cur_bal</th><th>bc_open_to_buy</th><th>bc_util</th><th>chargeoff_within_12_mths</th><th>delinq_amnt</th><th>mo_sin_old_il_acct</th><th>mo_sin_old_rev_tl_op</th><th>mo_sin_rcnt_rev_tl_op</th><th>mo_sin_rcnt_tl</th><th>mort_acc</th><th>mths_since_recent_bc</th><th>mths_since_recent_bc_dlq</th><th>mths_since_recent_inq</th><th>mths_since_recent_revol_delinq</th><th>num_accts_ever_120_pd</th><th>num_actv_bc_tl</th><th>num_actv_rev_tl</th><th>num_bc_sats</th><th>num_bc_tl</th><th>num_il_tl</th><th>num_op_rev_tl</th><th>num_rev_accts</th><th>num_rev_tl_bal_gt_0</th><th>num_sats</th><th>num_tl_120dpd_2m</th><th>num_tl_30dpd</th><th>num_tl_90g_dpd_24m</th><th>num_tl_op_past_12m</th><th>pct_tl_nvr_dlq</th><th>percent_bc_gt_75</th><th>pub_rec_bankruptcies</th><th>tax_liens</th><th>tot_hi_cred_lim</th><th>total_bal_ex_mort</th><th>total_bc_limit</th><th>total_il_high_credit_limit</th><th>revol_bal_joint</th><th>sec_app_fico_range_low</th><th>sec_app_fico_range_high</th><th>sec_app_inq_last_6mths</th><th>sec_app_mort_acc</th><th>sec_app_open_acc</th><th>sec_app_revol_util</th><th>sec_app_open_act_il</th><th>sec_app_num_rev_accts</th><th>sec_app_mths_since_last_major_derog</th><th>disbursement_method</th><th>debt_settlement_flag</th><th>term_in_months</th><th>emp_duration</th><th>sub_grade_indexed</th><th>home_ownership_indexed</th><th>sub_grade_indexed_encoded</th><th>home_ownership_indexed_encoded</th><th>features</th></tr><tr><td>118184277</td><td>4500.0</td><td>4500.0</td><td>7.07</td><td>139.1</td><td>A2</td><td>RENT</td><td>40400.0</td><td>Not Verified</td><td>Fully Paid</td><td>n</td><td>debt_consolidation</td><td>801xx</td><td>CO</td><td>12.0</td><td>0.0</td><td>740.0</td><td>744.0</td><td>0.0</td><td>0</td><td>83.0</td><td>10.0</td><td>1.0</td><td>1031.0</td><td>2.2</td><td>29.0</td><td>0.0</td><td>0.0</td><td>4809.8270961624</td><td>4809.83</td><td>4500.0</td><td>309.83</td><td>0.0</td><td>0.0</td><td>0.0</td><td>3136.06</td><td>729.0</td><td>725.0</td><td>0.0</td><td>0</td><td>1.0</td><td>Individual</td><td>0</td><td>0</td><td>Not Verified</td><td>0.0</td><td>0.0</td><td>16434.0</td><td>0.0</td><td>2.0</td><td>0.0</td><td>2.0</td><td>16.0</td><td>15403.0</td><td>73.0</td><td>1.0</td><td>3.0</td><td>900.0</td><td>24.0</td><td>47600.0</td><td>0.0</td><td>8.0</td><td>0.0</td><td>5.0</td><td>1643.0</td><td>40436.0</td><td>2.3</td><td>0.0</td><td>0.0</td><td>170.0</td><td>116.0</td><td>10.0</td><td>10.0</td><td>2.0</td><td>10.0</td><td>0.0</td><td>0.0</td><td>0.0</td><td>0.0</td><td>2.0</td><td>4.0</td><td>5.0</td><td>8.0</td><td>14.0</td><td>8.0</td><td>13.0</td><td>4.0</td><td>10.0</td><td>0.0</td><td>0.0</td><td>0.0</td><td>1.0</td><td>100.0</td><td>0.0</td><td>1.0</td><td>0.0</td><td>68759.0</td><td>16434.0</td><td>41400.0</td><td>21159.0</td><td>0.0</td><td>0.0</td><td>0.0</td><td>0.0</td><td>0.0</td><td>0.0</td><td>0.0</td><td>0.0</td><td>0.0</td><td>0.0</td><td>Cash</td><td>N</td><td>36</td><td>3</td><td>16.0</td><td>1.0</td><td>(35,[16],[1.0])</td><td>(6,[1],[1.0])</td><td>(41,[16,36],[1.0,...</td></tr><tr><td>117289602</td><td>4000.0</td><td>4000.0</td><td>9.93</td><td>128.94</td><td>B2</td><td>MORTGAGE</td><td>53000.0</td><td>Source Verified</td><td>Current</td><td>n</td><td>credit_card</td><td>720xx</td><td>AR</td><td>20.99</td><td>1.0</td><td>665.0</td><td>669.0</td><td>0.0</td><td>12.0</td><td>0</td><td>4.0</td><td>0.0</td><td>6296.0</td><td>80.7</td><td>14.0</td><td>2148.01</td><td>2148.01</td><td>2318.71</td><td>2318.71</td><td>1851.99</td><td>466.72</td><td>0.0</td><td>0.0</td><td>0.0</td><td>128.94</td><td>569.0</td><td>565.0</td><td>0.0</td><td>31.0</td><td>1.0</td><td>Individual</td><td>0</td><td>0</td><td>Not Verified</td><td>0.0</td><td>0.0</td><td>48764.0</td><td>0.0</td><td>1.0</td><td>0.0</td><td>0.0</td><td>48.0</td><td>42468.0</td><td>0</td><td>0.0</td><td>0.0</td><td>3093.0</td><td>81.0</td><td>7800.0</td><td>2.0</td><td>1.0</td><td>4.0</td><td>0.0</td><td>12191.0</td><td>354.0</td><td>94.5</td><td>0.0</td><td>0.0</td><td>187.0</td><td>146.0</td><td>60.0</td><td>48.0</td><td>0.0</td><td>108.0</td><td>0.0</td><td>0.0</td><td>12.0</td><td>3.0</td><td>2.0</td><td>3.0</td><td>2.0</td><td>5.0</td><td>4.0</td><td>3.0</td><td>10.0</td><td>3.0</td><td>4.0</td><td>0.0</td><td>0.0</td><td>0.0</td><td>0.0</td><td>71.4</td><td>100.0</td><td>0.0</td><td>0.0</td><td>63143.0</td><td>48764.0</td><td>6400.0</td><td>55343.0</td><td>0.0</td><td>0.0</td><td>0.0</td><td>0.0</td><td>0.0</td><td>0.0</td><td>0.0</td><td>0.0</td><td>0.0</td><td>0.0</td><td>Cash</td><td>N</td><td>36</td><td>10</td><td>7.0</td><td>0.0</td><td>(35,[7],[1.0])</td><td>(6,[0],[1.0])</td><td>(41,[7,35],[1.0,1...</td></tr><tr><td>118216186</td><td>10000.0</td><td>10000.0</td><td>10.91</td><td>326.97</td><td>B4</td><td>RENT</td><td>65000.0</td><td>Not Verified</td><td>Current</td><td>n</td><td>debt_consolidation</td><td>040xx</td><td>ME</td><td>17.96</td><td>2.0</td><td>665.0</td><td>669.0</td><td>1.0</td><td>20.0</td><td>0</td><td>16.0</td><td>0.0</td><td>7576.0</td><td>44.0</td><td>32.0</td><td>5406.21</td><td>5406.21</td><td>5879.4</td><td>5879.4</td><td>4593.79</td><td>1285.61</td><td>0.0</td><td>0.0</td><td>0.0</td><td>326.97</td><td>674.0</td><td>670.0</td><td>1.0</td><td>57.0</td><td>1.0</td><td>Individual</td><td>0</td><td>0</td><td>Not Verified</td><td>0.0</td><td>2032.0</td><td>32005.0</td><td>1.0</td><td>2.0</td><td>0.0</td><td>0.0</td><td>61.0</td><td>24429.0</td><td>49.0</td><td>4.0</td><td>7.0</td><td>1114.0</td><td>48.0</td><td>17200.0</td><td>0.0</td><td>0.0</td><td>3.0</td><td>7.0</td><td>2134.0</td><td>5626.0</td><td>26.0</td><td>0.0</td><td>0.0</td><td>138.0</td><td>253.0</td><td>5.0</td><td>5.0</td><td>0.0</td><td>7.0</td><td>54.0</td><td>1.0</td><td>22.0</td><td>1.0</td><td>3.0</td><td>9.0</td><td>5.0</td><td>11.0</td><td>7.0</td><td>14.0</td><td>25.0</td><td>9.0</td><td>16.0</td><td>0.0</td><td>0.0</td><td>0.0</td><td>4.0</td><td>87.1</td><td>20.0</td><td>0.0</td><td>0.0</td><td>66695.0</td><td>32005.0</td><td>7600.0</td><td>49495.0</td><td>0.0</td><td>0.0</td><td>0.0</td><td>0.0</td><td>0.0</td><td>0.0</td><td>0.0</td><td>0.0</td><td>0.0</td><td>0.0</td><td>Cash</td><td>N</td><td>36</td><td>2</td><td>2.0</td><td>1.0</td><td>(35,[2],[1.0])</td><td>(6,[1],[1.0])</td><td>(41,[2,36],[1.0,1...</td></tr><tr><td>117584790</td><td>20000.0</td><td>20000.0</td><td>12.62</td><td>670.23</td><td>C1</td><td>MORTGAGE</td><td>60000.0</td><td>Not Verified</td><td>Fully Paid</td><td>n</td><td>home_improvement</td><td>606xx</td><td>IL</td><td>15.6</td><td>0.0</td><td>690.0</td><td>694.0</td><td>0.0</td><td>35.0</td><td>0</td><td>8.0</td><td>0.0</td><td>39556.0</td><td>57.4</td><td>11.0</td><td>0.0</td><td>0.0</td><td>21638.120791947</td><td>21638.12</td><td>20000.0</td><td>1638.12</td><td>0.0</td><td>0.0</td><td>0.0</td><td>16960.53</td><td>704.0</td><td>700.0</td><td>0.0</td><td>0</td><td>1.0</td><td>Individual</td><td>0</td><td>0</td><td>Not Verified</td><td>0.0</td><td>0.0</td><td>39556.0</td><td>1.0</td><td>0.0</td><td>0.0</td><td>0.0</td><td>0</td><td>0.0</td><td>0</td><td>1.0</td><td>1.0</td><td>16904.0</td><td>57.0</td><td>68900.0</td><td>1.0</td><td>0.0</td><td>4.0</td><td>1.0</td><td>5651.0</td><td>29344.0</td><td>57.4</td><td>0.0</td><td>0.0</td><td>0.0</td><td>248.0</td><td>3.0</td><td>3.0</td><td>0.0</td><td>3.0</td><td>35.0</td><td>6.0</td><td>35.0</td><td>0.0</td><td>6.0</td><td>6.0</td><td>7.0</td><td>8.0</td><td>0.0</td><td>8.0</td><td>11.0</td><td>6.0</td><td>8.0</td><td>0.0</td><td>0.0</td><td>0.0</td><td>1.0</td><td>90.9</td><td>28.6</td><td>0.0</td><td>0.0</td><td>68900.0</td><td>39556.0</td><td>68900.0</td><td>0.0</td><td>0.0</td><td>0.0</td><td>0.0</td><td>0.0</td><td>0.0</td><td>0.0</td><td>0.0</td><td>0.0</td><td>0.0</td><td>0.0</td><td>Cash</td><td>N</td><td>36</td><td>10</td><td>0.0</td><td>0.0</td><td>(35,[0],[1.0])</td><td>(6,[0],[1.0])</td><td>(41,[0,35],[1.0,1...</td></tr><tr><td>118208834</td><td>15000.0</td><td>15000.0</td><td>7.97</td><td>469.84</td><td>A5</td><td>RENT</td><td>38000.0</td><td>Not Verified</td><td>Current</td><td>n</td><td>debt_consolidation</td><td>322xx</td><td>FL</td><td>24.23</td><td>0.0</td><td>740.0</td><td>744.0</td><td>0.0</td><td>0</td><td>0</td><td>15.0</td><td>0.0</td><td>10684.0</td><td>30.4</td><td>29.0</td><td>7946.26</td><td>7946.26</td><td>8450.48</td><td>8450.48</td><td>7053.74</td><td>1396.74</td><td>0.0</td><td>0.0</td><td>0.0</td><td>469.84</td><td>814.0</td><td>810.0</td><td>0.0</td><td>0</td><td>1.0</td><td>Individual</td><td>0</td><td>0</td><td>Not Verified</td><td>0.0</td><td>0.0</td><td>45525.0</td><td>0.0</td><td>6.0</td><td>0.0</td><td>0.0</td><td>26.0</td><td>34841.0</td><td>84.0</td><td>0.0</td><td>0.0</td><td>4327.0</td><td>59.0</td><td>35200.0</td><td>1.0</td><td>0.0</td><td>1.0</td><td>0.0</td><td>3252.0</td><td>16329.0</td><td>36.2</td><td>0.0</td><td>0.0</td><td>128.0</td><td>128.0</td><td>26.0</td><td>26.0</td><td>0.0</td><td>89.0</td><td>0.0</td><td>12.0</td><td>0.0</td><td>0.0</td><td>5.0</td><td>6.0</td><td>5.0</td><td>7.0</td><td>16.0</td><td>9.0</td><td>13.0</td><td>6.0</td><td>15.0</td><td>0.0</td><td>0.0</td><td>0.0</td><td>0.0</td><td>100.0</td><td>0.0</td><td>0.0</td><td>0.0</td><td>76877.0</td><td>45525.0</td><td>25600.0</td><td>41677.0</td><td>0.0</td><td>0.0</td><td>0.0</td><td>0.0</td><td>0.0</td><td>0.0</td><td>0.0</td><td>0.0</td><td>0.0</td><td>0.0</td><td>Cash</td><td>N</td><td>36</td><td>1</td><td>10.0</td><td>1.0</td><td>(35,[10],[1.0])</td><td>(6,[1],[1.0])</td><td>(41,[10,36],[1.0,...</td></tr></table><br /><pre>only showing top 5 rows</pre>"
      ],
      "text/plain": [
       "<IPython.core.display.HTML object>"
      ]
     },
     "metadata": {},
     "output_type": "display_data"
    }
   ],
   "source": [
    "%%pretty\n",
    "df.show(5)"
   ]
  },
  {
   "cell_type": "code",
   "execution_count": 177,
   "id": "220ebb19",
   "metadata": {},
   "outputs": [
    {
     "data": {
      "application/vnd.jupyter.widget-view+json": {
       "model_id": "",
       "version_major": 2,
       "version_minor": 0
      },
      "text/plain": [
       "FloatProgress(value=0.0, bar_style='info', description='Progress:', layout=Layout(height='25px', width='50%'),…"
      ]
     },
     "metadata": {},
     "output_type": "display_data"
    },
    {
     "name": "stdout",
     "output_type": "stream",
     "text": [
      "root\n",
      " |-- id: string (nullable = true)\n",
      " |-- loan_amnt: double (nullable = true)\n",
      " |-- funded_amnt: double (nullable = true)\n",
      " |-- int_rate: double (nullable = true)\n",
      " |-- installment: double (nullable = true)\n",
      " |-- sub_grade: string (nullable = true)\n",
      " |-- home_ownership: string (nullable = true)\n",
      " |-- annual_inc: string (nullable = true)\n",
      " |-- verification_status: string (nullable = true)\n",
      " |-- loan_status: string (nullable = true)\n",
      " |-- pymnt_plan: string (nullable = true)\n",
      " |-- purpose: string (nullable = true)\n",
      " |-- zip_code: string (nullable = true)\n",
      " |-- addr_state: string (nullable = true)\n",
      " |-- dti: string (nullable = true)\n",
      " |-- delinq_2yrs: string (nullable = true)\n",
      " |-- fico_range_low: string (nullable = true)\n",
      " |-- fico_range_high: string (nullable = true)\n",
      " |-- inq_last_6mths: string (nullable = true)\n",
      " |-- mths_since_last_delinq: string (nullable = true)\n",
      " |-- mths_since_last_record: string (nullable = true)\n",
      " |-- open_acc: string (nullable = true)\n",
      " |-- pub_rec: string (nullable = true)\n",
      " |-- revol_bal: string (nullable = true)\n",
      " |-- revol_util: string (nullable = true)\n",
      " |-- total_acc: string (nullable = true)\n",
      " |-- out_prncp: string (nullable = true)\n",
      " |-- out_prncp_inv: string (nullable = true)\n",
      " |-- total_pymnt: string (nullable = true)\n",
      " |-- total_pymnt_inv: string (nullable = true)\n",
      " |-- total_rec_prncp: string (nullable = true)\n",
      " |-- total_rec_int: string (nullable = true)\n",
      " |-- total_rec_late_fee: string (nullable = true)\n",
      " |-- recoveries: string (nullable = true)\n",
      " |-- collection_recovery_fee: string (nullable = true)\n",
      " |-- last_pymnt_amnt: string (nullable = true)\n",
      " |-- last_fico_range_high: string (nullable = true)\n",
      " |-- last_fico_range_low: string (nullable = true)\n",
      " |-- collections_12_mths_ex_med: string (nullable = true)\n",
      " |-- mths_since_last_major_derog: string (nullable = true)\n",
      " |-- policy_code: string (nullable = true)\n",
      " |-- application_type: string (nullable = true)\n",
      " |-- annual_inc_joint: string (nullable = true)\n",
      " |-- dti_joint: string (nullable = true)\n",
      " |-- verification_status_joint: string (nullable = true)\n",
      " |-- acc_now_delinq: string (nullable = true)\n",
      " |-- tot_coll_amt: string (nullable = true)\n",
      " |-- tot_cur_bal: string (nullable = true)\n",
      " |-- open_acc_6m: string (nullable = true)\n",
      " |-- open_act_il: string (nullable = true)\n",
      " |-- open_il_12m: string (nullable = true)\n",
      " |-- open_il_24m: string (nullable = true)\n",
      " |-- mths_since_rcnt_il: string (nullable = true)\n",
      " |-- total_bal_il: string (nullable = true)\n",
      " |-- il_util: string (nullable = true)\n",
      " |-- open_rv_12m: string (nullable = true)\n",
      " |-- open_rv_24m: string (nullable = true)\n",
      " |-- max_bal_bc: string (nullable = true)\n",
      " |-- all_util: string (nullable = true)\n",
      " |-- total_rev_hi_lim: string (nullable = true)\n",
      " |-- inq_fi: string (nullable = true)\n",
      " |-- total_cu_tl: string (nullable = true)\n",
      " |-- inq_last_12m: double (nullable = true)\n",
      " |-- acc_open_past_24mths: double (nullable = true)\n",
      " |-- avg_cur_bal: string (nullable = true)\n",
      " |-- bc_open_to_buy: double (nullable = true)\n",
      " |-- bc_util: string (nullable = true)\n",
      " |-- chargeoff_within_12_mths: double (nullable = true)\n",
      " |-- delinq_amnt: double (nullable = true)\n",
      " |-- mo_sin_old_il_acct: double (nullable = true)\n",
      " |-- mo_sin_old_rev_tl_op: double (nullable = true)\n",
      " |-- mo_sin_rcnt_rev_tl_op: double (nullable = true)\n",
      " |-- mo_sin_rcnt_tl: double (nullable = true)\n",
      " |-- mort_acc: double (nullable = true)\n",
      " |-- mths_since_recent_bc: double (nullable = true)\n",
      " |-- mths_since_recent_bc_dlq: double (nullable = true)\n",
      " |-- mths_since_recent_inq: double (nullable = true)\n",
      " |-- mths_since_recent_revol_delinq: double (nullable = true)\n",
      " |-- num_accts_ever_120_pd: double (nullable = true)\n",
      " |-- num_actv_bc_tl: double (nullable = true)\n",
      " |-- num_actv_rev_tl: double (nullable = true)\n",
      " |-- num_bc_sats: double (nullable = true)\n",
      " |-- num_bc_tl: double (nullable = true)\n",
      " |-- num_il_tl: double (nullable = true)\n",
      " |-- num_op_rev_tl: double (nullable = true)\n",
      " |-- num_rev_accts: double (nullable = true)\n",
      " |-- num_rev_tl_bal_gt_0: double (nullable = true)\n",
      " |-- num_sats: double (nullable = true)\n",
      " |-- num_tl_120dpd_2m: double (nullable = true)\n",
      " |-- num_tl_30dpd: double (nullable = true)\n",
      " |-- num_tl_90g_dpd_24m: double (nullable = true)\n",
      " |-- num_tl_op_past_12m: double (nullable = true)\n",
      " |-- pct_tl_nvr_dlq: double (nullable = true)\n",
      " |-- percent_bc_gt_75: double (nullable = true)\n",
      " |-- pub_rec_bankruptcies: double (nullable = true)\n",
      " |-- tax_liens: double (nullable = true)\n",
      " |-- tot_hi_cred_lim: double (nullable = true)\n",
      " |-- total_bal_ex_mort: double (nullable = true)\n",
      " |-- total_bc_limit: double (nullable = true)\n",
      " |-- total_il_high_credit_limit: double (nullable = true)\n",
      " |-- revol_bal_joint: double (nullable = true)\n",
      " |-- sec_app_fico_range_low: double (nullable = true)\n",
      " |-- sec_app_fico_range_high: double (nullable = true)\n",
      " |-- sec_app_inq_last_6mths: double (nullable = true)\n",
      " |-- sec_app_mort_acc: double (nullable = true)\n",
      " |-- sec_app_open_acc: double (nullable = true)\n",
      " |-- sec_app_revol_util: double (nullable = true)\n",
      " |-- sec_app_open_act_il: double (nullable = true)\n",
      " |-- sec_app_num_rev_accts: double (nullable = true)\n",
      " |-- sec_app_mths_since_last_major_derog: double (nullable = true)\n",
      " |-- disbursement_method: string (nullable = true)\n",
      " |-- debt_settlement_flag: string (nullable = true)\n",
      " |-- term_in_months: integer (nullable = true)\n",
      " |-- emp_duration: integer (nullable = true)\n",
      " |-- sub_grade_indexed: double (nullable = true)\n",
      " |-- home_ownership_indexed: double (nullable = true)\n",
      " |-- sub_grade_indexed_encoded: vector (nullable = true)\n",
      " |-- home_ownership_indexed_encoded: vector (nullable = true)\n",
      " |-- features: vector (nullable = true)"
     ]
    }
   ],
   "source": [
    "df.printSchema()"
   ]
  },
  {
   "cell_type": "code",
   "execution_count": 247,
   "id": "3b4a3996",
   "metadata": {},
   "outputs": [
    {
     "data": {
      "application/vnd.jupyter.widget-view+json": {
       "model_id": "",
       "version_major": 2,
       "version_minor": 0
      },
      "text/plain": [
       "FloatProgress(value=0.0, bar_style='info', description='Progress:', layout=Layout(height='25px', width='50%'),…"
      ]
     },
     "metadata": {},
     "output_type": "display_data"
    },
    {
     "name": "stdout",
     "output_type": "stream",
     "text": [
      "+------------------+-------+\n",
      "|       loan_status|  count|\n",
      "+------------------+-------+\n",
      "|   In Grace Period|   8419|\n",
      "|Late (31-120 days)|  21416|\n",
      "|        Fully Paid|1035417|\n",
      "|           Default|     40|\n",
      "|       Charged Off| 261440|\n",
      "|           Current| 876154|\n",
      "| Late (16-30 days)|   4341|\n",
      "+------------------+-------+"
     ]
    }
   ],
   "source": [
    "# can use this to get info on categorical variables\n",
    "\n",
    "df.groupBy('loan_status').count().show()"
   ]
  },
  {
   "cell_type": "code",
   "execution_count": 205,
   "id": "b280a361",
   "metadata": {},
   "outputs": [
    {
     "data": {
      "application/vnd.jupyter.widget-view+json": {
       "model_id": "",
       "version_major": 2,
       "version_minor": 0
      },
      "text/plain": [
       "FloatProgress(value=0.0, bar_style='info', description='Progress:', layout=Layout(height='25px', width='50%'),…"
      ]
     },
     "metadata": {},
     "output_type": "display_data"
    }
   ],
   "source": [
    "df_red = df.filter(df['loan_status'] != \"Fully Paid\")"
   ]
  },
  {
   "cell_type": "code",
   "execution_count": 206,
   "id": "ccbce1b7",
   "metadata": {},
   "outputs": [
    {
     "data": {
      "application/vnd.jupyter.widget-view+json": {
       "model_id": "",
       "version_major": 2,
       "version_minor": 0
      },
      "text/plain": [
       "FloatProgress(value=0.0, bar_style='info', description='Progress:', layout=Layout(height='25px', width='50%'),…"
      ]
     },
     "metadata": {},
     "output_type": "display_data"
    },
    {
     "data": {
      "text/html": [
       "<table><tr><th>summary</th><th>loan_amnt</th></tr><tr><td>count</td><td>1171810</td></tr><tr><td>mean</td><td>15909.521381452625</td></tr><tr><td>stddev</td><td>9565.176531533829</td></tr><tr><td>min</td><td>1000.0</td></tr><tr><td>max</td><td>40000.0</td></tr></table><br /><pre></pre>"
      ],
      "text/plain": [
       "<IPython.core.display.HTML object>"
      ]
     },
     "metadata": {},
     "output_type": "display_data"
    }
   ],
   "source": [
    "%%pretty\n",
    "df_red.describe('loan_amnt').show()"
   ]
  },
  {
   "cell_type": "code",
   "execution_count": 207,
   "id": "3f202bdc",
   "metadata": {},
   "outputs": [
    {
     "data": {
      "application/vnd.jupyter.widget-view+json": {
       "model_id": "",
       "version_major": 2,
       "version_minor": 0
      },
      "text/plain": [
       "FloatProgress(value=0.0, bar_style='info', description='Progress:', layout=Layout(height='25px', width='50%'),…"
      ]
     },
     "metadata": {},
     "output_type": "display_data"
    }
   ],
   "source": [
    "income_rdd = df.select('annual_inc')"
   ]
  },
  {
   "cell_type": "markdown",
   "id": "1b41f296",
   "metadata": {},
   "source": [
    "# Plots"
   ]
  },
  {
   "cell_type": "code",
   "execution_count": 208,
   "id": "810913fe",
   "metadata": {},
   "outputs": [
    {
     "data": {
      "application/vnd.jupyter.widget-view+json": {
       "model_id": "",
       "version_major": 2,
       "version_minor": 0
      },
      "text/plain": [
       "FloatProgress(value=0.0, bar_style='info', description='Progress:', layout=Layout(height='25px', width='50%'),…"
      ]
     },
     "metadata": {},
     "output_type": "display_data"
    },
    {
     "data": {
      "text/html": [
       "<table><tr><th>id</th><th>loan_amnt</th><th>funded_amnt</th><th>int_rate</th><th>installment</th><th>sub_grade</th><th>home_ownership</th><th>annual_inc</th><th>verification_status</th><th>loan_status</th><th>pymnt_plan</th><th>purpose</th><th>zip_code</th><th>addr_state</th><th>dti</th><th>delinq_2yrs</th><th>fico_range_low</th><th>fico_range_high</th><th>inq_last_6mths</th><th>mths_since_last_delinq</th><th>mths_since_last_record</th><th>open_acc</th><th>pub_rec</th><th>revol_bal</th><th>revol_util</th><th>total_acc</th><th>out_prncp</th><th>out_prncp_inv</th><th>total_pymnt</th><th>total_pymnt_inv</th><th>total_rec_prncp</th><th>total_rec_int</th><th>total_rec_late_fee</th><th>recoveries</th><th>collection_recovery_fee</th><th>last_pymnt_amnt</th><th>last_fico_range_high</th><th>last_fico_range_low</th><th>collections_12_mths_ex_med</th><th>mths_since_last_major_derog</th><th>policy_code</th><th>application_type</th><th>annual_inc_joint</th><th>dti_joint</th><th>verification_status_joint</th><th>acc_now_delinq</th><th>tot_coll_amt</th><th>tot_cur_bal</th><th>open_acc_6m</th><th>open_act_il</th><th>open_il_12m</th><th>open_il_24m</th><th>mths_since_rcnt_il</th><th>total_bal_il</th><th>il_util</th><th>open_rv_12m</th><th>open_rv_24m</th><th>max_bal_bc</th><th>all_util</th><th>total_rev_hi_lim</th><th>inq_fi</th><th>total_cu_tl</th><th>inq_last_12m</th><th>acc_open_past_24mths</th><th>avg_cur_bal</th><th>bc_open_to_buy</th><th>bc_util</th><th>chargeoff_within_12_mths</th><th>delinq_amnt</th><th>mo_sin_old_il_acct</th><th>mo_sin_old_rev_tl_op</th><th>mo_sin_rcnt_rev_tl_op</th><th>mo_sin_rcnt_tl</th><th>mort_acc</th><th>mths_since_recent_bc</th><th>mths_since_recent_bc_dlq</th><th>mths_since_recent_inq</th><th>mths_since_recent_revol_delinq</th><th>num_accts_ever_120_pd</th><th>num_actv_bc_tl</th><th>num_actv_rev_tl</th><th>num_bc_sats</th><th>num_bc_tl</th><th>num_il_tl</th><th>num_op_rev_tl</th><th>num_rev_accts</th><th>num_rev_tl_bal_gt_0</th><th>num_sats</th><th>num_tl_120dpd_2m</th><th>num_tl_30dpd</th><th>num_tl_90g_dpd_24m</th><th>num_tl_op_past_12m</th><th>pct_tl_nvr_dlq</th><th>percent_bc_gt_75</th><th>pub_rec_bankruptcies</th><th>tax_liens</th><th>tot_hi_cred_lim</th><th>total_bal_ex_mort</th><th>total_bc_limit</th><th>total_il_high_credit_limit</th><th>revol_bal_joint</th><th>sec_app_fico_range_low</th><th>sec_app_fico_range_high</th><th>sec_app_inq_last_6mths</th><th>sec_app_mort_acc</th><th>sec_app_open_acc</th><th>sec_app_revol_util</th><th>sec_app_open_act_il</th><th>sec_app_num_rev_accts</th><th>sec_app_mths_since_last_major_derog</th><th>disbursement_method</th><th>debt_settlement_flag</th><th>term_in_months</th><th>emp_duration</th><th>sub_grade_indexed</th><th>home_ownership_indexed</th><th>sub_grade_indexed_encoded</th><th>home_ownership_indexed_encoded</th><th>features</th></tr><tr><td>117289602</td><td>4000.0</td><td>4000.0</td><td>9.93</td><td>128.94</td><td>B2</td><td>MORTGAGE</td><td>53000.0</td><td>Source Verified</td><td>Current</td><td>n</td><td>credit_card</td><td>720xx</td><td>AR</td><td>20.99</td><td>1.0</td><td>665.0</td><td>669.0</td><td>0.0</td><td>12.0</td><td>0</td><td>4.0</td><td>0.0</td><td>6296.0</td><td>80.7</td><td>14.0</td><td>2148.01</td><td>2148.01</td><td>2318.71</td><td>2318.71</td><td>1851.99</td><td>466.72</td><td>0.0</td><td>0.0</td><td>0.0</td><td>128.94</td><td>569.0</td><td>565.0</td><td>0.0</td><td>31.0</td><td>1.0</td><td>Individual</td><td>0</td><td>0</td><td>Not Verified</td><td>0.0</td><td>0.0</td><td>48764.0</td><td>0.0</td><td>1.0</td><td>0.0</td><td>0.0</td><td>48.0</td><td>42468.0</td><td>0</td><td>0.0</td><td>0.0</td><td>3093.0</td><td>81.0</td><td>7800.0</td><td>2.0</td><td>1.0</td><td>4.0</td><td>0.0</td><td>12191.0</td><td>354.0</td><td>94.5</td><td>0.0</td><td>0.0</td><td>187.0</td><td>146.0</td><td>60.0</td><td>48.0</td><td>0.0</td><td>108.0</td><td>0.0</td><td>0.0</td><td>12.0</td><td>3.0</td><td>2.0</td><td>3.0</td><td>2.0</td><td>5.0</td><td>4.0</td><td>3.0</td><td>10.0</td><td>3.0</td><td>4.0</td><td>0.0</td><td>0.0</td><td>0.0</td><td>0.0</td><td>71.4</td><td>100.0</td><td>0.0</td><td>0.0</td><td>63143.0</td><td>48764.0</td><td>6400.0</td><td>55343.0</td><td>0.0</td><td>0.0</td><td>0.0</td><td>0.0</td><td>0.0</td><td>0.0</td><td>0.0</td><td>0.0</td><td>0.0</td><td>0.0</td><td>Cash</td><td>N</td><td>36</td><td>10</td><td>7.0</td><td>0.0</td><td>(35,[7],[1.0])</td><td>(6,[0],[1.0])</td><td>(41,[7,35],[1.0,1...</td></tr><tr><td>118216186</td><td>10000.0</td><td>10000.0</td><td>10.91</td><td>326.97</td><td>B4</td><td>RENT</td><td>65000.0</td><td>Not Verified</td><td>Current</td><td>n</td><td>debt_consolidation</td><td>040xx</td><td>ME</td><td>17.96</td><td>2.0</td><td>665.0</td><td>669.0</td><td>1.0</td><td>20.0</td><td>0</td><td>16.0</td><td>0.0</td><td>7576.0</td><td>44.0</td><td>32.0</td><td>5406.21</td><td>5406.21</td><td>5879.4</td><td>5879.4</td><td>4593.79</td><td>1285.61</td><td>0.0</td><td>0.0</td><td>0.0</td><td>326.97</td><td>674.0</td><td>670.0</td><td>1.0</td><td>57.0</td><td>1.0</td><td>Individual</td><td>0</td><td>0</td><td>Not Verified</td><td>0.0</td><td>2032.0</td><td>32005.0</td><td>1.0</td><td>2.0</td><td>0.0</td><td>0.0</td><td>61.0</td><td>24429.0</td><td>49.0</td><td>4.0</td><td>7.0</td><td>1114.0</td><td>48.0</td><td>17200.0</td><td>0.0</td><td>0.0</td><td>3.0</td><td>7.0</td><td>2134.0</td><td>5626.0</td><td>26.0</td><td>0.0</td><td>0.0</td><td>138.0</td><td>253.0</td><td>5.0</td><td>5.0</td><td>0.0</td><td>7.0</td><td>54.0</td><td>1.0</td><td>22.0</td><td>1.0</td><td>3.0</td><td>9.0</td><td>5.0</td><td>11.0</td><td>7.0</td><td>14.0</td><td>25.0</td><td>9.0</td><td>16.0</td><td>0.0</td><td>0.0</td><td>0.0</td><td>4.0</td><td>87.1</td><td>20.0</td><td>0.0</td><td>0.0</td><td>66695.0</td><td>32005.0</td><td>7600.0</td><td>49495.0</td><td>0.0</td><td>0.0</td><td>0.0</td><td>0.0</td><td>0.0</td><td>0.0</td><td>0.0</td><td>0.0</td><td>0.0</td><td>0.0</td><td>Cash</td><td>N</td><td>36</td><td>2</td><td>2.0</td><td>1.0</td><td>(35,[2],[1.0])</td><td>(6,[1],[1.0])</td><td>(41,[2,36],[1.0,1...</td></tr></table><br /><pre>only showing top 2 rows</pre>"
      ],
      "text/plain": [
       "<IPython.core.display.HTML object>"
      ]
     },
     "metadata": {},
     "output_type": "display_data"
    }
   ],
   "source": [
    "%%pretty\n",
    "df_red.show(2)"
   ]
  },
  {
   "cell_type": "markdown",
   "id": "d07c7122",
   "metadata": {},
   "source": [
    "### Histogram of Loan Amounts"
   ]
  },
  {
   "cell_type": "code",
   "execution_count": 209,
   "id": "4e6610e2",
   "metadata": {},
   "outputs": [
    {
     "data": {
      "application/vnd.jupyter.widget-view+json": {
       "model_id": "",
       "version_major": 2,
       "version_minor": 0
      },
      "text/plain": [
       "FloatProgress(value=0.0, bar_style='info', description='Progress:', layout=Layout(height='25px', width='50%'),…"
      ]
     },
     "metadata": {},
     "output_type": "display_data"
    },
    {
     "data": {
      "image/png": "[encoded data removed]",
      "text/plain": [
       "<IPython.core.display.Image object>"
      ]
     },
     "metadata": {},
     "output_type": "display_data"
    }
   ],
   "source": [
    "plt.figure().clear()\n",
    "pandas_df = df_red.select(['loan_amnt']).toPandas()\n",
    "sns.histplot(pandas_df, bins = 12, legend = True).set_title('Histogram of Loan Amounts')\n",
    "\n",
    "%matplot plt"
   ]
  },
  {
   "cell_type": "code",
   "execution_count": 210,
   "id": "689b9ae8",
   "metadata": {},
   "outputs": [
    {
     "data": {
      "application/vnd.jupyter.widget-view+json": {
       "model_id": "",
       "version_major": 2,
       "version_minor": 0
      },
      "text/plain": [
       "FloatProgress(value=0.0, bar_style='info', description='Progress:', layout=Layout(height='25px', width='50%'),…"
      ]
     },
     "metadata": {},
     "output_type": "display_data"
    },
    {
     "data": {
      "text/html": [
       "<table><tr><th>summary</th><th>loan_amnt</th></tr><tr><td>count</td><td>1171810</td></tr><tr><td>mean</td><td>15909.521381452625</td></tr><tr><td>stddev</td><td>9565.176531533827</td></tr><tr><td>min</td><td>1000.0</td></tr><tr><td>max</td><td>40000.0</td></tr></table><br /><pre></pre>"
      ],
      "text/plain": [
       "<IPython.core.display.HTML object>"
      ]
     },
     "metadata": {},
     "output_type": "display_data"
    }
   ],
   "source": [
    "%%pretty\n",
    "df_red.describe('loan_amnt').show()"
   ]
  },
  {
   "cell_type": "markdown",
   "id": "a20d2689",
   "metadata": {},
   "source": [
    "### Interest Rates"
   ]
  },
  {
   "cell_type": "code",
   "execution_count": 211,
   "id": "9669da7e",
   "metadata": {},
   "outputs": [
    {
     "data": {
      "application/vnd.jupyter.widget-view+json": {
       "model_id": "",
       "version_major": 2,
       "version_minor": 0
      },
      "text/plain": [
       "FloatProgress(value=0.0, bar_style='info', description='Progress:', layout=Layout(height='25px', width='50%'),…"
      ]
     },
     "metadata": {},
     "output_type": "display_data"
    },
    {
     "data": {
      "image/png": "[encoded data removed]",
      "text/plain": [
       "<IPython.core.display.Image object>"
      ]
     },
     "metadata": {},
     "output_type": "display_data"
    }
   ],
   "source": [
    "plt.figure().clear()\n",
    "pandas_df = df_red.select(['int_rate']).toPandas()\n",
    "sns.histplot(pandas_df, bins = 12, legend = True).set_title('Histogram of Interest Rates')\n",
    "\n",
    "%matplot plt"
   ]
  },
  {
   "cell_type": "code",
   "execution_count": 212,
   "id": "67b9881a",
   "metadata": {},
   "outputs": [
    {
     "data": {
      "application/vnd.jupyter.widget-view+json": {
       "model_id": "",
       "version_major": 2,
       "version_minor": 0
      },
      "text/plain": [
       "FloatProgress(value=0.0, bar_style='info', description='Progress:', layout=Layout(height='25px', width='50%'),…"
      ]
     },
     "metadata": {},
     "output_type": "display_data"
    },
    {
     "data": {
      "text/html": [
       "<table><tr><th>summary</th><th>int_rate</th></tr><tr><td>count</td><td>1171810</td></tr><tr><td>mean</td><td>13.51400357567813</td></tr><tr><td>stddev</td><td>5.065258587134</td></tr><tr><td>min</td><td>5.31</td></tr><tr><td>max</td><td>30.99</td></tr></table><br /><pre></pre>"
      ],
      "text/plain": [
       "<IPython.core.display.HTML object>"
      ]
     },
     "metadata": {},
     "output_type": "display_data"
    }
   ],
   "source": [
    "%%pretty\n",
    "df_red.describe('int_rate').show()"
   ]
  },
  {
   "cell_type": "markdown",
   "id": "ef6132e1",
   "metadata": {},
   "source": [
    "### Payment Installment Amounts"
   ]
  },
  {
   "cell_type": "code",
   "execution_count": 213,
   "id": "8dc0e97c",
   "metadata": {
    "scrolled": true
   },
   "outputs": [
    {
     "data": {
      "application/vnd.jupyter.widget-view+json": {
       "model_id": "",
       "version_major": 2,
       "version_minor": 0
      },
      "text/plain": [
       "FloatProgress(value=0.0, bar_style='info', description='Progress:', layout=Layout(height='25px', width='50%'),…"
      ]
     },
     "metadata": {},
     "output_type": "display_data"
    },
    {
     "data": {
      "image/png": "[encoded data removed]",
      "text/plain": [
       "<IPython.core.display.Image object>"
      ]
     },
     "metadata": {},
     "output_type": "display_data"
    }
   ],
   "source": [
    "plt.figure().clear()\n",
    "pandas_df = df_red.select(['installment']).toPandas()\n",
    "sns.histplot(pandas_df, bins = 12, legend = True).set_title('Histogram of Payment Installment Amounts')\n",
    "\n",
    "%matplot plt"
   ]
  },
  {
   "cell_type": "code",
   "execution_count": 214,
   "id": "c2c2b163",
   "metadata": {
    "scrolled": false
   },
   "outputs": [
    {
     "data": {
      "application/vnd.jupyter.widget-view+json": {
       "model_id": "",
       "version_major": 2,
       "version_minor": 0
      },
      "text/plain": [
       "FloatProgress(value=0.0, bar_style='info', description='Progress:', layout=Layout(height='25px', width='50%'),…"
      ]
     },
     "metadata": {},
     "output_type": "display_data"
    },
    {
     "data": {
      "text/html": [
       "<table><tr><th>summary</th><th>installment</th></tr><tr><td>count</td><td>1171810</td></tr><tr><td>mean</td><td>459.89961647365374</td></tr><tr><td>stddev</td><td>272.2201349190238</td></tr><tr><td>min</td><td>7.61</td></tr><tr><td>max</td><td>1717.63</td></tr></table><br /><pre></pre>"
      ],
      "text/plain": [
       "<IPython.core.display.HTML object>"
      ]
     },
     "metadata": {},
     "output_type": "display_data"
    }
   ],
   "source": [
    "%%pretty\n",
    "df_red.describe('installment').show()"
   ]
  },
  {
   "cell_type": "markdown",
   "id": "03f7af44",
   "metadata": {},
   "source": [
    "### Home Ownership"
   ]
  },
  {
   "cell_type": "code",
   "execution_count": 215,
   "id": "0e598f8e",
   "metadata": {},
   "outputs": [
    {
     "data": {
      "application/vnd.jupyter.widget-view+json": {
       "model_id": "",
       "version_major": 2,
       "version_minor": 0
      },
      "text/plain": [
       "FloatProgress(value=0.0, bar_style='info', description='Progress:', layout=Layout(height='25px', width='50%'),…"
      ]
     },
     "metadata": {},
     "output_type": "display_data"
    },
    {
     "data": {
      "image/png": "[encoded data removed]",
      "text/plain": [
       "<IPython.core.display.Image object>"
      ]
     },
     "metadata": {},
     "output_type": "display_data"
    }
   ],
   "source": [
    "plt.figure().clear()\n",
    "pandas_df = df_red.select(['home_ownership']).toPandas()\n",
    "sns.countplot(x = pandas_df['home_ownership']).set_title('Counts of Ownership Status')\n",
    "\n",
    "%matplot plt"
   ]
  },
  {
   "cell_type": "code",
   "execution_count": 216,
   "id": "d7ae4763",
   "metadata": {
    "scrolled": true
   },
   "outputs": [
    {
     "data": {
      "application/vnd.jupyter.widget-view+json": {
       "model_id": "",
       "version_major": 2,
       "version_minor": 0
      },
      "text/plain": [
       "FloatProgress(value=0.0, bar_style='info', description='Progress:', layout=Layout(height='25px', width='50%'),…"
      ]
     },
     "metadata": {},
     "output_type": "display_data"
    },
    {
     "data": {
      "text/html": [
       "<table><tr><th>home_ownership</th><th>count</th></tr><tr><td>MORTGAGE</td><td>554939</td></tr><tr><td>RENT</td><td>478993</td></tr><tr><td>OWN</td><td>137096</td></tr><tr><td>ANY</td><td>766</td></tr><tr><td>NONE</td><td>8</td></tr><tr><td>OTHER</td><td>8</td></tr></table><br /><pre></pre>"
      ],
      "text/plain": [
       "<IPython.core.display.HTML object>"
      ]
     },
     "metadata": {},
     "output_type": "display_data"
    }
   ],
   "source": [
    "%%pretty\n",
    "df_1 = df_red.groupBy('home_ownership').count()\n",
    "df_1.orderBy(df_1['count'].desc()).show()"
   ]
  },
  {
   "cell_type": "markdown",
   "id": "0dc25294",
   "metadata": {},
   "source": [
    "### Annual Income\n"
   ]
  },
  {
   "cell_type": "code",
   "execution_count": 254,
   "id": "39a32b83",
   "metadata": {
    "scrolled": true
   },
   "outputs": [
    {
     "data": {
      "application/vnd.jupyter.widget-view+json": {
       "model_id": "",
       "version_major": 2,
       "version_minor": 0
      },
      "text/plain": [
       "FloatProgress(value=0.0, bar_style='info', description='Progress:', layout=Layout(height='25px', width='50%'),…"
      ]
     },
     "metadata": {},
     "output_type": "display_data"
    },
    {
     "name": "stderr",
     "output_type": "stream",
     "text": [
      "An error was encountered:\n",
      "'annual_inc'\n",
      "Traceback (most recent call last):\n",
      "  File \"/mnt/yarn/usercache/livy/appcache/application_1681238170162_0180/container_1681238170162_0180_01_000001/tmp/1681926781792-0/lib/python3.7/site-packages/pandas/core/series.py\", line 942, in __getitem__\n",
      "    return self._get_value(key)\n",
      "  File \"/mnt/yarn/usercache/livy/appcache/application_1681238170162_0180/container_1681238170162_0180_01_000001/tmp/1681926781792-0/lib/python3.7/site-packages/pandas/core/series.py\", line 1051, in _get_value\n",
      "    loc = self.index.get_loc(label)\n",
      "  File \"/mnt/yarn/usercache/livy/appcache/application_1681238170162_0180/container_1681238170162_0180_01_000001/tmp/1681926781792-0/lib/python3.7/site-packages/pandas/core/indexes/range.py\", line 388, in get_loc\n",
      "    raise KeyError(key)\n",
      "KeyError: 'annual_inc'\n",
      "\n"
     ]
    }
   ],
   "source": [
    "plt.figure().clear()\n",
    "pandas_df = df_red.select(['annual_inc']).toPandas()\n",
    "pandas_df = pandas_df['annual_inc'].apply(pd.to_numeric, errors='coerce')\n",
    "sns.histplot(x = pandas_df['annual_inc']).set_title('Counts of Annual Income')\n",
    "\n",
    "%matplot plt"
   ]
  },
  {
   "cell_type": "code",
   "execution_count": 259,
   "id": "2d63bad6",
   "metadata": {},
   "outputs": [
    {
     "data": {
      "application/vnd.jupyter.widget-view+json": {
       "model_id": "",
       "version_major": 2,
       "version_minor": 0
      },
      "text/plain": [
       "FloatProgress(value=0.0, bar_style='info', description='Progress:', layout=Layout(height='25px', width='50%'),…"
      ]
     },
     "metadata": {},
     "output_type": "display_data"
    },
    {
     "name": "stderr",
     "output_type": "stream",
     "text": [
      "An error was encountered:\n",
      "'annual_inc'\n",
      "Traceback (most recent call last):\n",
      "  File \"/mnt/yarn/usercache/livy/appcache/application_1681238170162_0180/container_1681238170162_0180_01_000001/tmp/1681926781792-0/lib/python3.7/site-packages/pandas/core/series.py\", line 942, in __getitem__\n",
      "    return self._get_value(key)\n",
      "  File \"/mnt/yarn/usercache/livy/appcache/application_1681238170162_0180/container_1681238170162_0180_01_000001/tmp/1681926781792-0/lib/python3.7/site-packages/pandas/core/series.py\", line 1051, in _get_value\n",
      "    loc = self.index.get_loc(label)\n",
      "  File \"/mnt/yarn/usercache/livy/appcache/application_1681238170162_0180/container_1681238170162_0180_01_000001/tmp/1681926781792-0/lib/python3.7/site-packages/pandas/core/indexes/range.py\", line 388, in get_loc\n",
      "    raise KeyError(key)\n",
      "KeyError: 'annual_inc'\n",
      "\n"
     ]
    }
   ],
   "source": [
    "plt.figure().clear()\n",
    "pandas_df = df_red.select(['annual_inc']).toPandas()\n",
    "pandas_df = pandas_df['annual_inc'].apply(pd.to_numeric, errors='coerce')\n",
    "sns.histplot(x = pandas_df['annual_inc']).set_title('Counts of Annual Income')\n",
    "\n",
    "%matplot plt"
   ]
  },
  {
   "cell_type": "code",
   "execution_count": 258,
   "id": "f8109d16",
   "metadata": {},
   "outputs": [
    {
     "data": {
      "application/vnd.jupyter.widget-view+json": {
       "model_id": "",
       "version_major": 2,
       "version_minor": 0
      },
      "text/plain": [
       "FloatProgress(value=0.0, bar_style='info', description='Progress:', layout=Layout(height='25px', width='50%'),…"
      ]
     },
     "metadata": {},
     "output_type": "display_data"
    },
    {
     "name": "stdout",
     "output_type": "stream",
     "text": [
      "0     53000.0\n",
      "1     65000.0\n",
      "2     38000.0\n",
      "3    166000.0\n",
      "4     81000.0\n",
      "Name: annual_inc, dtype: float64"
     ]
    }
   ],
   "source": [
    "pandas_df.head()"
   ]
  },
  {
   "cell_type": "code",
   "execution_count": 255,
   "id": "55469441",
   "metadata": {},
   "outputs": [
    {
     "data": {
      "application/vnd.jupyter.widget-view+json": {
       "model_id": "",
       "version_major": 2,
       "version_minor": 0
      },
      "text/plain": [
       "FloatProgress(value=0.0, bar_style='info', description='Progress:', layout=Layout(height='25px', width='50%'),…"
      ]
     },
     "metadata": {},
     "output_type": "display_data"
    },
    {
     "data": {
      "text/html": [
       "<table><tr><th>summary</th><th>annual_inc</th></tr><tr><td>count</td><td>1171810</td></tr><tr><td>mean</td><td>78448.87778265242</td></tr><tr><td>stddev</td><td>140841.54196638972</td></tr><tr><td>min</td><td>0.0</td></tr><tr><td>max</td><td>99999.84</td></tr></table><br /><pre></pre>"
      ],
      "text/plain": [
       "<IPython.core.display.HTML object>"
      ]
     },
     "metadata": {},
     "output_type": "display_data"
    }
   ],
   "source": [
    "%%pretty\n",
    "df_red.describe('annual_inc').show()"
   ]
  },
  {
   "cell_type": "code",
   "execution_count": 238,
   "id": "8e1d039d",
   "metadata": {},
   "outputs": [
    {
     "data": {
      "application/vnd.jupyter.widget-view+json": {
       "model_id": "",
       "version_major": 2,
       "version_minor": 0
      },
      "text/plain": [
       "FloatProgress(value=0.0, bar_style='info', description='Progress:', layout=Layout(height='25px', width='50%'),…"
      ]
     },
     "metadata": {},
     "output_type": "display_data"
    },
    {
     "data": {
      "text/html": [
       "<table><tr><th>id</th><th>loan_amnt</th><th>funded_amnt</th><th>int_rate</th><th>installment</th><th>sub_grade</th><th>home_ownership</th><th>annual_inc</th><th>verification_status</th><th>loan_status</th><th>pymnt_plan</th><th>purpose</th><th>zip_code</th><th>addr_state</th><th>dti</th><th>delinq_2yrs</th><th>fico_range_low</th><th>fico_range_high</th><th>inq_last_6mths</th><th>mths_since_last_delinq</th><th>mths_since_last_record</th><th>open_acc</th><th>pub_rec</th><th>revol_bal</th><th>revol_util</th><th>total_acc</th><th>out_prncp</th><th>out_prncp_inv</th><th>total_pymnt</th><th>total_pymnt_inv</th><th>total_rec_prncp</th><th>total_rec_int</th><th>total_rec_late_fee</th><th>recoveries</th><th>collection_recovery_fee</th><th>last_pymnt_amnt</th><th>last_fico_range_high</th><th>last_fico_range_low</th><th>collections_12_mths_ex_med</th><th>mths_since_last_major_derog</th><th>policy_code</th><th>application_type</th><th>annual_inc_joint</th><th>dti_joint</th><th>verification_status_joint</th><th>acc_now_delinq</th><th>tot_coll_amt</th><th>tot_cur_bal</th><th>open_acc_6m</th><th>open_act_il</th><th>open_il_12m</th><th>open_il_24m</th><th>mths_since_rcnt_il</th><th>total_bal_il</th><th>il_util</th><th>open_rv_12m</th><th>open_rv_24m</th><th>max_bal_bc</th><th>all_util</th><th>total_rev_hi_lim</th><th>inq_fi</th><th>total_cu_tl</th><th>inq_last_12m</th><th>acc_open_past_24mths</th><th>avg_cur_bal</th><th>bc_open_to_buy</th><th>bc_util</th><th>chargeoff_within_12_mths</th><th>delinq_amnt</th><th>mo_sin_old_il_acct</th><th>mo_sin_old_rev_tl_op</th><th>mo_sin_rcnt_rev_tl_op</th><th>mo_sin_rcnt_tl</th><th>mort_acc</th><th>mths_since_recent_bc</th><th>mths_since_recent_bc_dlq</th><th>mths_since_recent_inq</th><th>mths_since_recent_revol_delinq</th><th>num_accts_ever_120_pd</th><th>num_actv_bc_tl</th><th>num_actv_rev_tl</th><th>num_bc_sats</th><th>num_bc_tl</th><th>num_il_tl</th><th>num_op_rev_tl</th><th>num_rev_accts</th><th>num_rev_tl_bal_gt_0</th><th>num_sats</th><th>num_tl_120dpd_2m</th><th>num_tl_30dpd</th><th>num_tl_90g_dpd_24m</th><th>num_tl_op_past_12m</th><th>pct_tl_nvr_dlq</th><th>percent_bc_gt_75</th><th>pub_rec_bankruptcies</th><th>tax_liens</th><th>tot_hi_cred_lim</th><th>total_bal_ex_mort</th><th>total_bc_limit</th><th>total_il_high_credit_limit</th><th>revol_bal_joint</th><th>sec_app_fico_range_low</th><th>sec_app_fico_range_high</th><th>sec_app_inq_last_6mths</th><th>sec_app_mort_acc</th><th>sec_app_open_acc</th><th>sec_app_revol_util</th><th>sec_app_open_act_il</th><th>sec_app_num_rev_accts</th><th>sec_app_mths_since_last_major_derog</th><th>disbursement_method</th><th>debt_settlement_flag</th><th>term_in_months</th><th>emp_duration</th><th>sub_grade_indexed</th><th>home_ownership_indexed</th><th>sub_grade_indexed_encoded</th><th>home_ownership_indexed_encoded</th><th>features</th></tr><tr><td>128252299</td><td>20000.0</td><td>20000.0</td><td>16.02</td><td>703.34</td><td>C5</td><td>MORTGAGE</td><td>0.0</td><td>Not Verified</td><td>Current</td><td>n</td><td>home_improvement</td><td>935xx</td><td>CA</td><td>0.0</td><td>0.0</td><td>665.0</td><td>669.0</td><td>0.0</td><td>55.0</td><td>0</td><td>3.0</td><td>0.0</td><td>0.0</td><td>0.0</td><td>9.0</td><td>14366.47</td><td>14348.52</td><td>8546.88</td><td>8536.2</td><td>5633.53</td><td>2913.35</td><td>0.0</td><td>0.0</td><td>0.0</td><td>703.34</td><td>669.0</td><td>665.0</td><td>0.0</td><td>55.0</td><td>1.0</td><td>Joint App</td><td>125000.0</td><td>25.99</td><td>Not Verified</td><td>0.0</td><td>0.0</td><td>208540.0</td><td>0.0</td><td>0.0</td><td>0.0</td><td>0.0</td><td>0</td><td>0.0</td><td>0</td><td>1.0</td><td>1.0</td><td>0.0</td><td>0.0</td><td>300.0</td><td>0.0</td><td>0.0</td><td>2.0</td><td>1.0</td><td>104270.0</td><td>0.0</td><td>0</td><td>0.0</td><td>0.0</td><td>0.0</td><td>158.0</td><td>10.0</td><td>10.0</td><td>3.0</td><td>0.0</td><td>55.0</td><td>2.0</td><td>55.0</td><td>2.0</td><td>0.0</td><td>0.0</td><td>0.0</td><td>3.0</td><td>0.0</td><td>2.0</td><td>6.0</td><td>0.0</td><td>3.0</td><td>0.0</td><td>0.0</td><td>0.0</td><td>1.0</td><td>66.7</td><td>0.0</td><td>0.0</td><td>0.0</td><td>238300.0</td><td>0.0</td><td>0.0</td><td>0.0</td><td>49818.0</td><td>650.0</td><td>654.0</td><td>0.0</td><td>5.0</td><td>7.0</td><td>78.8</td><td>4.0</td><td>14.0</td><td>44.0</td><td>Cash</td><td>N</td><td>36</td><td>1</td><td>9.0</td><td>0.0</td><td>(35,[9],[1.0])</td><td>(6,[0],[1.0])</td><td>(41,[9,35],[1.0,1...</td></tr><tr><td>126346494</td><td>4950.0</td><td>4950.0</td><td>14.08</td><td>169.38</td><td>C3</td><td>MORTGAGE</td><td>0.0</td><td>Not Verified</td><td>Current</td><td>n</td><td>major_purchase</td><td>958xx</td><td>CA</td><td>0.0</td><td>0.0</td><td>805.0</td><td>809.0</td><td>0.0</td><td>0</td><td>0</td><td>4.0</td><td>0.0</td><td>0.0</td><td>0.0</td><td>15.0</td><td>3270.98</td><td>3270.98</td><td>2382.45</td><td>2382.45</td><td>1679.02</td><td>688.43</td><td>15.0</td><td>0.0</td><td>0.0</td><td>169.38</td><td>719.0</td><td>715.0</td><td>0.0</td><td>0</td><td>1.0</td><td>Joint App</td><td>55000.0</td><td>38.6</td><td>Not Verified</td><td>0.0</td><td>0.0</td><td>101627.0</td><td>0.0</td><td>0.0</td><td>0.0</td><td>0.0</td><td>65.0</td><td>0.0</td><td>0</td><td>0.0</td><td>0.0</td><td>0.0</td><td>0.0</td><td>15500.0</td><td>0.0</td><td>3.0</td><td>0.0</td><td>1.0</td><td>25407.0</td><td>5500.0</td><td>0.0</td><td>0.0</td><td>0.0</td><td>115.0</td><td>189.0</td><td>37.0</td><td>11.0</td><td>2.0</td><td>41.0</td><td>0.0</td><td>14.0</td><td>0.0</td><td>0.0</td><td>0.0</td><td>0.0</td><td>2.0</td><td>4.0</td><td>4.0</td><td>3.0</td><td>9.0</td><td>0.0</td><td>4.0</td><td>0.0</td><td>0.0</td><td>0.0</td><td>1.0</td><td>100.0</td><td>0.0</td><td>0.0</td><td>0.0</td><td>121500.0</td><td>0.0</td><td>5500.0</td><td>0.0</td><td>23877.0</td><td>585.0</td><td>589.0</td><td>5.0</td><td>1.0</td><td>13.0</td><td>101.5</td><td>2.0</td><td>12.0</td><td>0.0</td><td>Cash</td><td>N</td><td>36</td><td>1</td><td>5.0</td><td>0.0</td><td>(35,[5],[1.0])</td><td>(6,[0],[1.0])</td><td>(41,[5,35],[1.0,1...</td></tr><tr><td>137704819</td><td>35000.0</td><td>35000.0</td><td>15.02</td><td>833.02</td><td>C3</td><td>MORTGAGE</td><td>0.0</td><td>Not Verified</td><td>Current</td><td>n</td><td>credit_card</td><td>080xx</td><td>NJ</td><td>0.0</td><td>0.0</td><td>800.0</td><td>804.0</td><td>0.0</td><td>0</td><td>0</td><td>2.0</td><td>0.0</td><td>0.0</td><td>0.0</td><td>10.0</td><td>32129.44</td><td>32129.44</td><td>5772.73</td><td>5772.73</td><td>2870.56</td><td>2902.17</td><td>0.0</td><td>0.0</td><td>0.0</td><td>833.02</td><td>784.0</td><td>780.0</td><td>0.0</td><td>0</td><td>1.0</td><td>Joint App</td><td>105000.0</td><td>11.9</td><td>Not Verified</td><td>0.0</td><td>0.0</td><td>295304.0</td><td>0.0</td><td>0.0</td><td>0.0</td><td>0.0</td><td>57.0</td><td>0.0</td><td>0</td><td>1.0</td><td>1.0</td><td>0.0</td><td>0.0</td><td>1600.0</td><td>0.0</td><td>0.0</td><td>1.0</td><td>1.0</td><td>147652.0</td><td>0.0</td><td>0</td><td>0.0</td><td>0.0</td><td>57.0</td><td>176.0</td><td>7.0</td><td>7.0</td><td>2.0</td><td>0.0</td><td>0.0</td><td>7.0</td><td>0.0</td><td>0.0</td><td>0.0</td><td>0.0</td><td>0.0</td><td>1.0</td><td>1.0</td><td>1.0</td><td>7.0</td><td>0.0</td><td>2.0</td><td>0.0</td><td>0.0</td><td>0.0</td><td>1.0</td><td>100.0</td><td>0.0</td><td>0.0</td><td>0.0</td><td>328950.0</td><td>0.0</td><td>0.0</td><td>0.0</td><td>36382.0</td><td>680.0</td><td>684.0</td><td>0.0</td><td>2.0</td><td>8.0</td><td>70.9</td><td>2.0</td><td>15.0</td><td>21.0</td><td>Cash</td><td>N</td><td>60</td><td>1</td><td>5.0</td><td>0.0</td><td>(35,[5],[1.0])</td><td>(6,[0],[1.0])</td><td>(41,[5,35],[1.0,1...</td></tr><tr><td>137440563</td><td>35000.0</td><td>35000.0</td><td>18.94</td><td>1281.9</td><td>D2</td><td>MORTGAGE</td><td>0.0</td><td>Not Verified</td><td>Current</td><td>n</td><td>debt_consolidation</td><td>850xx</td><td>AZ</td><td>0.0</td><td>3.0</td><td>660.0</td><td>664.0</td><td>3.0</td><td>8.0</td><td>0</td><td>5.0</td><td>0.0</td><td>0.0</td><td>0.0</td><td>9.0</td><td>28831.37</td><td>28831.37</td><td>10181.54</td><td>10181.54</td><td>6168.63</td><td>4012.91</td><td>0.0</td><td>0.0</td><td>0.0</td><td>1281.9</td><td>689.0</td><td>685.0</td><td>0.0</td><td>20.0</td><td>1.0</td><td>Joint App</td><td>360000.0</td><td>0.0</td><td>Not Verified</td><td>0.0</td><td>4698.0</td><td>498354.0</td><td>1.0</td><td>0.0</td><td>0.0</td><td>0.0</td><td>100.0</td><td>0.0</td><td>0</td><td>2.0</td><td>2.0</td><td>0.0</td><td>0.0</td><td>22300.0</td><td>1.0</td><td>0.0</td><td>4.0</td><td>2.0</td><td>99671.0</td><td>17400.0</td><td>0.0</td><td>0.0</td><td>0.0</td><td>100.0</td><td>385.0</td><td>4.0</td><td>4.0</td><td>1.0</td><td>4.0</td><td>0.0</td><td>0.0</td><td>8.0</td><td>2.0</td><td>0.0</td><td>0.0</td><td>2.0</td><td>2.0</td><td>1.0</td><td>4.0</td><td>7.0</td><td>0.0</td><td>5.0</td><td>0.0</td><td>0.0</td><td>1.0</td><td>2.0</td><td>44.4</td><td>0.0</td><td>0.0</td><td>0.0</td><td>566300.0</td><td>0.0</td><td>17400.0</td><td>0.0</td><td>0.0</td><td>630.0</td><td>634.0</td><td>0.0</td><td>1.0</td><td>2.0</td><td>0.0</td><td>0.0</td><td>3.0</td><td>20.0</td><td>Cash</td><td>N</td><td>36</td><td>1</td><td>14.0</td><td>0.0</td><td>(35,[14],[1.0])</td><td>(6,[0],[1.0])</td><td>(41,[14,35],[1.0,...</td></tr><tr><td>145497601</td><td>15000.0</td><td>15000.0</td><td>18.94</td><td>388.62</td><td>D2</td><td>MORTGAGE</td><td>0.0</td><td>Not Verified</td><td>Current</td><td>n</td><td>debt_consolidation</td><td>297xx</td><td>SC</td><td>0.0</td><td>0.0</td><td>670.0</td><td>674.0</td><td>0.0</td><td>42.0</td><td>0</td><td>2.0</td><td>0.0</td><td>0.0</td><td>0.0</td><td>9.0</td><td>14693.86</td><td>14693.86</td><td>871.94</td><td>871.94</td><td>306.14</td><td>565.8</td><td>0.0</td><td>0.0</td><td>0.0</td><td>388.62</td><td>674.0</td><td>670.0</td><td>0.0</td><td>60.0</td><td>1.0</td><td>Joint App</td><td>144000.0</td><td>5.06</td><td>Not Verified</td><td>0.0</td><td>0.0</td><td>316046.0</td><td>0.0</td><td>0.0</td><td>0.0</td><td>0.0</td><td>93.0</td><td>0.0</td><td>0</td><td>0.0</td><td>0.0</td><td>0.0</td><td>0.0</td><td>1000.0</td><td>0.0</td><td>0.0</td><td>1.0</td><td>1.0</td><td>158023.0</td><td>0.0</td><td>0</td><td>0.0</td><td>0.0</td><td>180.0</td><td>357.0</td><td>56.0</td><td>21.0</td><td>1.0</td><td>0.0</td><td>60.0</td><td>6.0</td><td>42.0</td><td>2.0</td><td>0.0</td><td>0.0</td><td>0.0</td><td>1.0</td><td>3.0</td><td>1.0</td><td>5.0</td><td>0.0</td><td>2.0</td><td>0.0</td><td>0.0</td><td>0.0</td><td>0.0</td><td>66.7</td><td>0.0</td><td>0.0</td><td>0.0</td><td>327428.0</td><td>0.0</td><td>0.0</td><td>0.0</td><td>383.0</td><td>640.0</td><td>644.0</td><td>1.0</td><td>1.0</td><td>4.0</td><td>76.6</td><td>2.0</td><td>1.0</td><td>35.0</td><td>Cash</td><td>N</td><td>60</td><td>1</td><td>14.0</td><td>0.0</td><td>(35,[14],[1.0])</td><td>(6,[0],[1.0])</td><td>(41,[14,35],[1.0,...</td></tr><tr><td>144253401</td><td>25000.0</td><td>25000.0</td><td>15.02</td><td>595.02</td><td>C3</td><td>MORTGAGE</td><td>0.0</td><td>Not Verified</td><td>Current</td><td>n</td><td>debt_consolidation</td><td>232xx</td><td>VA</td><td>0.0</td><td>0.0</td><td>770.0</td><td>774.0</td><td>0.0</td><td>0</td><td>0</td><td>3.0</td><td>0.0</td><td>0.0</td><td>0.0</td><td>7.0</td><td>24143.05</td><td>24143.05</td><td>1877.41</td><td>1877.41</td><td>856.95</td><td>1020.46</td><td>0.0</td><td>0.0</td><td>0.0</td><td>595.02</td><td>679.0</td><td>675.0</td><td>0.0</td><td>0</td><td>1.0</td><td>Joint App</td><td>300000.0</td><td>20.32</td><td>Not Verified</td><td>0.0</td><td>0.0</td><td>364190.0</td><td>0.0</td><td>0.0</td><td>0.0</td><td>0.0</td><td>145.0</td><td>0.0</td><td>0</td><td>0.0</td><td>0.0</td><td>0.0</td><td>0.0</td><td>4000.0</td><td>0.0</td><td>0.0</td><td>0.0</td><td>0.0</td><td>121397.0</td><td>0.0</td><td>0</td><td>0.0</td><td>0.0</td><td>145.0</td><td>111.0</td><td>76.0</td><td>76.0</td><td>3.0</td><td>0.0</td><td>0.0</td><td>0.0</td><td>0.0</td><td>0.0</td><td>0.0</td><td>0.0</td><td>0.0</td><td>0.0</td><td>1.0</td><td>1.0</td><td>3.0</td><td>0.0</td><td>3.0</td><td>0.0</td><td>0.0</td><td>0.0</td><td>0.0</td><td>100.0</td><td>0.0</td><td>0.0</td><td>0.0</td><td>423010.0</td><td>0.0</td><td>0.0</td><td>0.0</td><td>98850.0</td><td>610.0</td><td>614.0</td><td>0.0</td><td>3.0</td><td>12.0</td><td>99.6</td><td>6.0</td><td>11.0</td><td>0.0</td><td>Cash</td><td>N</td><td>60</td><td>1</td><td>5.0</td><td>0.0</td><td>(35,[5],[1.0])</td><td>(6,[0],[1.0])</td><td>(41,[5,35],[1.0,1...</td></tr><tr><td>134933714</td><td>12000.0</td><td>12000.0</td><td>12.13</td><td>267.73</td><td>B5</td><td>MORTGAGE</td><td>0.0</td><td>Not Verified</td><td>Current</td><td>n</td><td>other</td><td>080xx</td><td>NJ</td><td>0.0</td><td>0.0</td><td>720.0</td><td>724.0</td><td>1.0</td><td>36.0</td><td>0</td><td>12.0</td><td>0.0</td><td>0.0</td><td>0.0</td><td>37.0</td><td>10627.57</td><td>10627.57</td><td>2401.48</td><td>2401.48</td><td>1372.43</td><td>1029.05</td><td>0.0</td><td>0.0</td><td>0.0</td><td>267.73</td><td>729.0</td><td>725.0</td><td>0.0</td><td>36.0</td><td>1.0</td><td>Joint App</td><td>54600.0</td><td>6.59</td><td>Not Verified</td><td>0.0</td><td>0.0</td><td>0.0</td><td>2.0</td><td>0.0</td><td>0.0</td><td>0.0</td><td>74.0</td><td>0.0</td><td>0</td><td>4.0</td><td>8.0</td><td>0.0</td><td>0.0</td><td>70600.0</td><td>0.0</td><td>0.0</td><td>2.0</td><td>8.0</td><td>0.0</td><td>67100.0</td><td>0.0</td><td>0.0</td><td>0.0</td><td>202.0</td><td>180.0</td><td>1.0</td><td>1.0</td><td>3.0</td><td>1.0</td><td>0.0</td><td>5.0</td><td>0.0</td><td>2.0</td><td>0.0</td><td>0.0</td><td>10.0</td><td>15.0</td><td>11.0</td><td>12.0</td><td>23.0</td><td>0.0</td><td>12.0</td><td>0.0</td><td>0.0</td><td>0.0</td><td>4.0</td><td>94.6</td><td>0.0</td><td>0.0</td><td>0.0</td><td>70600.0</td><td>0.0</td><td>67100.0</td><td>0.0</td><td>3388.0</td><td>700.0</td><td>704.0</td><td>1.0</td><td>1.0</td><td>8.0</td><td>10.0</td><td>0.0</td><td>8.0</td><td>0.0</td><td>Cash</td><td>N</td><td>60</td><td>1</td><td>1.0</td><td>0.0</td><td>(35,[1],[1.0])</td><td>(6,[0],[1.0])</td><td>(41,[1,35],[1.0,1...</td></tr></table><br /><pre></pre>"
      ],
      "text/plain": [
       "<IPython.core.display.HTML object>"
      ]
     },
     "metadata": {},
     "output_type": "display_data"
    }
   ],
   "source": [
    "%%pretty\n",
    "\n",
    "df_red.filter(df_red['annual_inc'] == 0).show()"
   ]
  },
  {
   "cell_type": "markdown",
   "id": "78bf1544",
   "metadata": {},
   "source": [
    "### Verification Status\n",
    "Indicates if income was verified by LC, not verified, or if the income source was verified"
   ]
  },
  {
   "cell_type": "code",
   "execution_count": 219,
   "id": "e54c9e63",
   "metadata": {},
   "outputs": [
    {
     "data": {
      "application/vnd.jupyter.widget-view+json": {
       "model_id": "",
       "version_major": 2,
       "version_minor": 0
      },
      "text/plain": [
       "FloatProgress(value=0.0, bar_style='info', description='Progress:', layout=Layout(height='25px', width='50%'),…"
      ]
     },
     "metadata": {},
     "output_type": "display_data"
    },
    {
     "data": {
      "image/png": "[encoded data removed]",
      "text/plain": [
       "<IPython.core.display.Image object>"
      ]
     },
     "metadata": {},
     "output_type": "display_data"
    }
   ],
   "source": [
    "plt.figure().clear()\n",
    "pandas_df = df_red.select(['verification_status']).toPandas()\n",
    "sns.countplot(x = pandas_df['verification_status']).set_title('Counts of Verification Status')\n",
    "\n",
    "%matplot plt"
   ]
  },
  {
   "cell_type": "markdown",
   "id": "a9e6d758",
   "metadata": {},
   "source": [
    "What's the difference between \"verified\" and \"source verified?\""
   ]
  },
  {
   "cell_type": "code",
   "execution_count": 220,
   "id": "0052df8b",
   "metadata": {},
   "outputs": [
    {
     "data": {
      "application/vnd.jupyter.widget-view+json": {
       "model_id": "",
       "version_major": 2,
       "version_minor": 0
      },
      "text/plain": [
       "FloatProgress(value=0.0, bar_style='info', description='Progress:', layout=Layout(height='25px', width='50%'),…"
      ]
     },
     "metadata": {},
     "output_type": "display_data"
    },
    {
     "data": {
      "text/html": [
       "<table><tr><th>verification_status</th><th>count</th></tr><tr><td>Source Verified</td><td>471588</td></tr><tr><td>Not Verified</td><td>392863</td></tr><tr><td>Verified</td><td>307359</td></tr></table><br /><pre></pre>"
      ],
      "text/plain": [
       "<IPython.core.display.HTML object>"
      ]
     },
     "metadata": {},
     "output_type": "display_data"
    }
   ],
   "source": [
    "%%pretty\n",
    "df_1 = df_red.groupBy('verification_status').count()\n",
    "df_1.orderBy(df_1['count'].desc()).show()"
   ]
  },
  {
   "cell_type": "markdown",
   "id": "d3151ebb",
   "metadata": {},
   "source": [
    "### Payment Plan\n",
    "Indicates if a payment plan has been put in place for the loan"
   ]
  },
  {
   "cell_type": "code",
   "execution_count": 221,
   "id": "a03749c0",
   "metadata": {
    "scrolled": false
   },
   "outputs": [
    {
     "data": {
      "application/vnd.jupyter.widget-view+json": {
       "model_id": "",
       "version_major": 2,
       "version_minor": 0
      },
      "text/plain": [
       "FloatProgress(value=0.0, bar_style='info', description='Progress:', layout=Layout(height='25px', width='50%'),…"
      ]
     },
     "metadata": {},
     "output_type": "display_data"
    },
    {
     "data": {
      "image/png": "[encoded data removed]",
      "text/plain": [
       "<IPython.core.display.Image object>"
      ]
     },
     "metadata": {},
     "output_type": "display_data"
    }
   ],
   "source": [
    "plt.figure().clear()\n",
    "pandas_df = df_red.select(['pymnt_plan']).toPandas()\n",
    "sns.countplot(x = pandas_df['pymnt_plan']).set_title('Counts of Payment Plan')\n",
    "\n",
    "%matplot plt"
   ]
  },
  {
   "cell_type": "code",
   "execution_count": 222,
   "id": "ab49b032",
   "metadata": {
    "scrolled": true
   },
   "outputs": [
    {
     "data": {
      "application/vnd.jupyter.widget-view+json": {
       "model_id": "",
       "version_major": 2,
       "version_minor": 0
      },
      "text/plain": [
       "FloatProgress(value=0.0, bar_style='info', description='Progress:', layout=Layout(height='25px', width='50%'),…"
      ]
     },
     "metadata": {},
     "output_type": "display_data"
    },
    {
     "data": {
      "text/html": [
       "<table><tr><th>pymnt_plan</th><th>count</th></tr><tr><td>n</td><td>1171192</td></tr><tr><td>y</td><td>618</td></tr></table><br /><pre></pre>"
      ],
      "text/plain": [
       "<IPython.core.display.HTML object>"
      ]
     },
     "metadata": {},
     "output_type": "display_data"
    }
   ],
   "source": [
    "%%pretty\n",
    "df_1 = df_red.groupBy('pymnt_plan').count()\n",
    "df_1.orderBy(df_1['count'].desc()).show()"
   ]
  },
  {
   "cell_type": "markdown",
   "id": "f5f49e00",
   "metadata": {},
   "source": [
    "### Loan Purpose"
   ]
  },
  {
   "cell_type": "code",
   "execution_count": 223,
   "id": "d52f62de",
   "metadata": {},
   "outputs": [
    {
     "data": {
      "application/vnd.jupyter.widget-view+json": {
       "model_id": "",
       "version_major": 2,
       "version_minor": 0
      },
      "text/plain": [
       "FloatProgress(value=0.0, bar_style='info', description='Progress:', layout=Layout(height='25px', width='50%'),…"
      ]
     },
     "metadata": {},
     "output_type": "display_data"
    },
    {
     "data": {
      "image/png": "[encoded data removed]",
      "text/plain": [
       "<IPython.core.display.Image object>"
      ]
     },
     "metadata": {},
     "output_type": "display_data"
    }
   ],
   "source": [
    "plt.figure().clear()\n",
    "pandas_df = df_red.select(['purpose']).toPandas()\n",
    "sns.countplot(x = pandas_df['purpose'],\n",
    "             order = pandas_df['purpose'].value_counts().index).set_title('Counts of Loan Purpose')\n",
    "plt.xticks(rotation=15)\n",
    "\n",
    "%matplot plt"
   ]
  },
  {
   "cell_type": "code",
   "execution_count": 224,
   "id": "27824df2",
   "metadata": {},
   "outputs": [
    {
     "data": {
      "application/vnd.jupyter.widget-view+json": {
       "model_id": "",
       "version_major": 2,
       "version_minor": 0
      },
      "text/plain": [
       "FloatProgress(value=0.0, bar_style='info', description='Progress:', layout=Layout(height='25px', width='50%'),…"
      ]
     },
     "metadata": {},
     "output_type": "display_data"
    },
    {
     "data": {
      "text/html": [
       "<table><tr><th>purpose</th><th>count</th></tr><tr><td>debt_consolidation</td><td>656702</td></tr><tr><td>credit_card</td><td>270220</td></tr><tr><td>home_improvement</td><td>77612</td></tr><tr><td>other</td><td>76531</td></tr><tr><td>major_purchase</td><td>26040</td></tr><tr><td>medical</td><td>15087</td></tr><tr><td>small_business</td><td>13077</td></tr><tr><td>car</td><td>11291</td></tr><tr><td>house</td><td>8320</td></tr><tr><td>vacation</td><td>8097</td></tr><tr><td>moving</td><td>7949</td></tr><tr><td>renewable_energy</td><td>704</td></tr><tr><td>wedding</td><td>179</td></tr><tr><td>educational</td><td>1</td></tr></table><br /><pre></pre>"
      ],
      "text/plain": [
       "<IPython.core.display.HTML object>"
      ]
     },
     "metadata": {},
     "output_type": "display_data"
    }
   ],
   "source": [
    "%%pretty\n",
    "df_1 = df_red.groupBy('purpose').count()\n",
    "df_1.orderBy(df_1['count'].desc()).show()"
   ]
  },
  {
   "cell_type": "markdown",
   "id": "444fed01",
   "metadata": {},
   "source": [
    "### State of Borrower"
   ]
  },
  {
   "cell_type": "code",
   "execution_count": 242,
   "id": "2f681b89",
   "metadata": {},
   "outputs": [
    {
     "data": {
      "application/vnd.jupyter.widget-view+json": {
       "model_id": "",
       "version_major": 2,
       "version_minor": 0
      },
      "text/plain": [
       "FloatProgress(value=0.0, bar_style='info', description='Progress:', layout=Layout(height='25px', width='50%'),…"
      ]
     },
     "metadata": {},
     "output_type": "display_data"
    },
    {
     "data": {
      "image/png": "[encoded data removed]",
      "text/plain": [
       "<IPython.core.display.Image object>"
      ]
     },
     "metadata": {},
     "output_type": "display_data"
    }
   ],
   "source": [
    "plt.figure().clear()\n",
    "pandas_df = df_red.select(['addr_state']).toPandas()\n",
    "sns.countplot(x = pandas_df['addr_state'],\n",
    "             order = pandas_df['addr_state'].value_counts().index).set_title('Counts of Borrowers Home State')\n",
    "plt.xticks(rotation=45)\n",
    "\n",
    "%matplot plt"
   ]
  },
  {
   "cell_type": "code",
   "execution_count": 226,
   "id": "59da0b00",
   "metadata": {},
   "outputs": [
    {
     "data": {
      "application/vnd.jupyter.widget-view+json": {
       "model_id": "",
       "version_major": 2,
       "version_minor": 0
      },
      "text/plain": [
       "FloatProgress(value=0.0, bar_style='info', description='Progress:', layout=Layout(height='25px', width='50%'),…"
      ]
     },
     "metadata": {},
     "output_type": "display_data"
    },
    {
     "data": {
      "text/html": [
       "<table><tr><th>addr_state</th><th>count</th></tr><tr><td>CA</td><td>154516</td></tr><tr><td>NY</td><td>99729</td></tr><tr><td>TX</td><td>97185</td></tr><tr><td>FL</td><td>85925</td></tr><tr><td>IL</td><td>48337</td></tr></table><br /><pre>only showing top 5 rows</pre>"
      ],
      "text/plain": [
       "<IPython.core.display.HTML object>"
      ]
     },
     "metadata": {},
     "output_type": "display_data"
    }
   ],
   "source": [
    "%%pretty\n",
    "df_1 = df_red.groupBy('addr_state').count()\n",
    "df_1.orderBy(df_1['count'].desc()).show(5)"
   ]
  },
  {
   "cell_type": "markdown",
   "id": "91f7cdf7",
   "metadata": {},
   "source": [
    "### DTI\n",
    "A ratio calculated using the borrower’s total monthly debt payments on the total debt obligations, excluding mortgage and the requested LC loan, divided by the borrower’s self-reported monthly income."
   ]
  },
  {
   "cell_type": "markdown",
   "id": "2a1d889d",
   "metadata": {},
   "source": [
    "We can see that the std is probably extremely skewed do to the max and how close the std is to the mean and zero. "
   ]
  },
  {
   "cell_type": "code",
   "execution_count": 261,
   "id": "cde1ba56",
   "metadata": {},
   "outputs": [
    {
     "data": {
      "application/vnd.jupyter.widget-view+json": {
       "model_id": "",
       "version_major": 2,
       "version_minor": 0
      },
      "text/plain": [
       "FloatProgress(value=0.0, bar_style='info', description='Progress:', layout=Layout(height='25px', width='50%'),…"
      ]
     },
     "metadata": {},
     "output_type": "display_data"
    },
    {
     "data": {
      "text/html": [
       "<table><tr><th>summary</th><th>dti</th></tr><tr><td>count</td><td>1171810</td></tr><tr><td>mean</td><td>19.793950495387634</td></tr><tr><td>stddev</td><td>16.544852134471487</td></tr><tr><td>min</td><td>0.0</td></tr><tr><td>max</td><td>999.0</td></tr></table><br /><pre></pre>"
      ],
      "text/plain": [
       "<IPython.core.display.HTML object>"
      ]
     },
     "metadata": {},
     "output_type": "display_data"
    }
   ],
   "source": [
    "%%pretty\n",
    "df_red.describe('dti').show()"
   ]
  },
  {
   "cell_type": "code",
   "execution_count": 227,
   "id": "fe17a7c9",
   "metadata": {},
   "outputs": [
    {
     "data": {
      "application/vnd.jupyter.widget-view+json": {
       "model_id": "",
       "version_major": 2,
       "version_minor": 0
      },
      "text/plain": [
       "FloatProgress(value=0.0, bar_style='info', description='Progress:', layout=Layout(height='25px', width='50%'),…"
      ]
     },
     "metadata": {},
     "output_type": "display_data"
    },
    {
     "name": "stderr",
     "output_type": "stream",
     "text": [
      "An error was encountered:\n",
      "'NoneType' object is not iterable\n",
      "Traceback (most recent call last):\n",
      "  File \"/mnt/yarn/usercache/livy/appcache/application_1681238170162_0180/container_1681238170162_0180_01_000001/tmp/1681926781792-0/lib/python3.7/site-packages/seaborn/distributions.py\", line 1445, in histplot\n",
      "    **kwargs,\n",
      "  File \"/mnt/yarn/usercache/livy/appcache/application_1681238170162_0180/container_1681238170162_0180_01_000001/tmp/1681926781792-0/lib/python3.7/site-packages/seaborn/distributions.py\", line 461, in plot_univariate_histogram\n",
      "    for sub_vars, sub_data in self.iter_data(\"hue\", from_comp_data=True):\n",
      "  File \"/mnt/yarn/usercache/livy/appcache/application_1681238170162_0180/container_1681238170162_0180_01_000001/tmp/1681926781792-0/lib/python3.7/site-packages/seaborn/_oldcore.py\", line 1065, in iter_data\n",
      "    iter_keys = itertools.product(*grouping_keys)\n",
      "TypeError: 'NoneType' object is not iterable\n",
      "\n"
     ]
    }
   ],
   "source": [
    "plt.figure().clear()\n",
    "pandas_df = df_red.select(['dti']).toPandas()\n",
    "sns.histplot(pandas_df, legend = True).set_title('Histogram of Payment Installment Amounts')\n",
    "\n",
    "%matplot plt"
   ]
  },
  {
   "cell_type": "code",
   "execution_count": null,
   "id": "ddab8a11",
   "metadata": {},
   "outputs": [],
   "source": []
  },
  {
   "cell_type": "markdown",
   "id": "65239a02",
   "metadata": {},
   "source": [
    "### Delinquency Occurences\n",
    "The number of 30+ days past-due incidences of delinquency in the borrower's credit file for the past 2 years"
   ]
  },
  {
   "cell_type": "code",
   "execution_count": 249,
   "id": "1076426b",
   "metadata": {
    "scrolled": true
   },
   "outputs": [
    {
     "data": {
      "application/vnd.jupyter.widget-view+json": {
       "model_id": "",
       "version_major": 2,
       "version_minor": 0
      },
      "text/plain": [
       "FloatProgress(value=0.0, bar_style='info', description='Progress:', layout=Layout(height='25px', width='50%'),…"
      ]
     },
     "metadata": {},
     "output_type": "display_data"
    },
    {
     "name": "stderr",
     "output_type": "stream",
     "text": [
      "An error was encountered:\n",
      "'NoneType' object is not iterable\n",
      "Traceback (most recent call last):\n",
      "  File \"/mnt/yarn/usercache/livy/appcache/application_1681238170162_0180/container_1681238170162_0180_01_000001/tmp/1681926781792-0/lib/python3.7/site-packages/seaborn/distributions.py\", line 1445, in histplot\n",
      "    **kwargs,\n",
      "  File \"/mnt/yarn/usercache/livy/appcache/application_1681238170162_0180/container_1681238170162_0180_01_000001/tmp/1681926781792-0/lib/python3.7/site-packages/seaborn/distributions.py\", line 461, in plot_univariate_histogram\n",
      "    for sub_vars, sub_data in self.iter_data(\"hue\", from_comp_data=True):\n",
      "  File \"/mnt/yarn/usercache/livy/appcache/application_1681238170162_0180/container_1681238170162_0180_01_000001/tmp/1681926781792-0/lib/python3.7/site-packages/seaborn/_oldcore.py\", line 1065, in iter_data\n",
      "    iter_keys = itertools.product(*grouping_keys)\n",
      "TypeError: 'NoneType' object is not iterable\n",
      "\n"
     ]
    }
   ],
   "source": [
    "plt.figure().clear()\n",
    "pandas_df = df_red.select(['delinq_2yrs']).toPandas()\n",
    "sns.histplot(pandas_df, bins = 12, legend = True).set_title('Histogram of Payment Installment Amounts')\n",
    "\n",
    "%matplot plt"
   ]
  },
  {
   "cell_type": "code",
   "execution_count": 262,
   "id": "79322b46",
   "metadata": {},
   "outputs": [
    {
     "data": {
      "application/vnd.jupyter.widget-view+json": {
       "model_id": "",
       "version_major": 2,
       "version_minor": 0
      },
      "text/plain": [
       "FloatProgress(value=0.0, bar_style='info', description='Progress:', layout=Layout(height='25px', width='50%'),…"
      ]
     },
     "metadata": {},
     "output_type": "display_data"
    },
    {
     "data": {
      "text/html": [
       "<table><tr><th>summary</th><th>delinq_2yrs</th></tr><tr><td>count</td><td>1171810</td></tr><tr><td>mean</td><td>0.30555465476485094</td></tr><tr><td>stddev</td><td>0.8733205326906309</td></tr><tr><td>min</td><td>0.0</td></tr><tr><td>max</td><td>9.0</td></tr></table><br /><pre></pre>"
      ],
      "text/plain": [
       "<IPython.core.display.HTML object>"
      ]
     },
     "metadata": {},
     "output_type": "display_data"
    }
   ],
   "source": [
    "%%pretty\n",
    "df_red.describe('delinq_2yrs').show()"
   ]
  },
  {
   "cell_type": "markdown",
   "id": "00af86fd",
   "metadata": {},
   "source": [
    "### Fico Scores"
   ]
  },
  {
   "cell_type": "markdown",
   "id": "2b8fd3bf",
   "metadata": {},
   "source": [
    "Fico scores look like the different between the two is almost exactly 4. "
   ]
  },
  {
   "cell_type": "code",
   "execution_count": 266,
   "id": "60a49cd1",
   "metadata": {},
   "outputs": [
    {
     "data": {
      "application/vnd.jupyter.widget-view+json": {
       "model_id": "",
       "version_major": 2,
       "version_minor": 0
      },
      "text/plain": [
       "FloatProgress(value=0.0, bar_style='info', description='Progress:', layout=Layout(height='25px', width='50%'),…"
      ]
     },
     "metadata": {},
     "output_type": "display_data"
    },
    {
     "data": {
      "text/html": [
       "<table><tr><th>summary</th><th>fico_range_low</th><th>fico_range_high</th></tr><tr><td>count</td><td>1171810</td><td>1171810</td></tr><tr><td>mean</td><td>698.8681356192557</td><td>702.8683643252746</td></tr><tr><td>stddev</td><td>33.1644695536167</td><td>33.165480728576405</td></tr><tr><td>min</td><td>660.0</td><td>664.0</td></tr><tr><td>max</td><td>845.0</td><td>850.0</td></tr></table><br /><pre></pre>"
      ],
      "text/plain": [
       "<IPython.core.display.HTML object>"
      ]
     },
     "metadata": {},
     "output_type": "display_data"
    }
   ],
   "source": [
    "%%pretty\n",
    "df_red.describe(['fico_range_low','fico_range_high']).show()"
   ]
  },
  {
   "cell_type": "code",
   "execution_count": 263,
   "id": "5cbf6524",
   "metadata": {
    "scrolled": true
   },
   "outputs": [
    {
     "data": {
      "application/vnd.jupyter.widget-view+json": {
       "model_id": "",
       "version_major": 2,
       "version_minor": 0
      },
      "text/plain": [
       "FloatProgress(value=0.0, bar_style='info', description='Progress:', layout=Layout(height='25px', width='50%'),…"
      ]
     },
     "metadata": {},
     "output_type": "display_data"
    },
    {
     "name": "stderr",
     "output_type": "stream",
     "text": [
      "An error was encountered:\n",
      "'NoneType' object is not iterable\n",
      "Traceback (most recent call last):\n",
      "  File \"/mnt/yarn/usercache/livy/appcache/application_1681238170162_0180/container_1681238170162_0180_01_000001/tmp/1681926781792-0/lib/python3.7/site-packages/seaborn/distributions.py\", line 1445, in histplot\n",
      "    **kwargs,\n",
      "  File \"/mnt/yarn/usercache/livy/appcache/application_1681238170162_0180/container_1681238170162_0180_01_000001/tmp/1681926781792-0/lib/python3.7/site-packages/seaborn/distributions.py\", line 461, in plot_univariate_histogram\n",
      "    for sub_vars, sub_data in self.iter_data(\"hue\", from_comp_data=True):\n",
      "  File \"/mnt/yarn/usercache/livy/appcache/application_1681238170162_0180/container_1681238170162_0180_01_000001/tmp/1681926781792-0/lib/python3.7/site-packages/seaborn/_oldcore.py\", line 1065, in iter_data\n",
      "    iter_keys = itertools.product(*grouping_keys)\n",
      "TypeError: 'NoneType' object is not iterable\n",
      "\n"
     ]
    }
   ],
   "source": [
    "plt.figure().clear()\n",
    "pandas_df = df_red.select(['fico_range_high']).toPandas()\n",
    "sns.histplot(pandas_df, bins = 12, legend = True).set_title('Histogram of Fico Scores')\n",
    "\n",
    "%matplot plt"
   ]
  },
  {
   "cell_type": "code",
   "execution_count": null,
   "id": "a563f00e",
   "metadata": {},
   "outputs": [],
   "source": []
  },
  {
   "cell_type": "code",
   "execution_count": 228,
   "id": "0de16e52",
   "metadata": {},
   "outputs": [
    {
     "data": {
      "application/vnd.jupyter.widget-view+json": {
       "model_id": "",
       "version_major": 2,
       "version_minor": 0
      },
      "text/plain": [
       "FloatProgress(value=0.0, bar_style='info', description='Progress:', layout=Layout(height='25px', width='50%'),…"
      ]
     },
     "metadata": {},
     "output_type": "display_data"
    },
    {
     "data": {
      "text/html": [
       "<table><tr><th>id</th><th>loan_amnt</th><th>funded_amnt</th><th>int_rate</th><th>installment</th><th>sub_grade</th><th>home_ownership</th><th>annual_inc</th><th>verification_status</th><th>loan_status</th><th>pymnt_plan</th><th>purpose</th><th>zip_code</th><th>addr_state</th><th>dti</th><th>delinq_2yrs</th><th>fico_range_low</th><th>fico_range_high</th><th>inq_last_6mths</th><th>mths_since_last_delinq</th><th>mths_since_last_record</th><th>open_acc</th><th>pub_rec</th><th>revol_bal</th><th>revol_util</th><th>total_acc</th><th>out_prncp</th><th>out_prncp_inv</th><th>total_pymnt</th><th>total_pymnt_inv</th><th>total_rec_prncp</th><th>total_rec_int</th><th>total_rec_late_fee</th><th>recoveries</th><th>collection_recovery_fee</th><th>last_pymnt_amnt</th><th>last_fico_range_high</th><th>last_fico_range_low</th><th>collections_12_mths_ex_med</th><th>mths_since_last_major_derog</th><th>policy_code</th><th>application_type</th><th>annual_inc_joint</th><th>dti_joint</th><th>verification_status_joint</th><th>acc_now_delinq</th><th>tot_coll_amt</th><th>tot_cur_bal</th><th>open_acc_6m</th><th>open_act_il</th><th>open_il_12m</th><th>open_il_24m</th><th>mths_since_rcnt_il</th><th>total_bal_il</th><th>il_util</th><th>open_rv_12m</th><th>open_rv_24m</th><th>max_bal_bc</th><th>all_util</th><th>total_rev_hi_lim</th><th>inq_fi</th><th>total_cu_tl</th><th>inq_last_12m</th><th>acc_open_past_24mths</th><th>avg_cur_bal</th><th>bc_open_to_buy</th><th>bc_util</th><th>chargeoff_within_12_mths</th><th>delinq_amnt</th><th>mo_sin_old_il_acct</th><th>mo_sin_old_rev_tl_op</th><th>mo_sin_rcnt_rev_tl_op</th><th>mo_sin_rcnt_tl</th><th>mort_acc</th><th>mths_since_recent_bc</th><th>mths_since_recent_bc_dlq</th><th>mths_since_recent_inq</th><th>mths_since_recent_revol_delinq</th><th>num_accts_ever_120_pd</th><th>num_actv_bc_tl</th><th>num_actv_rev_tl</th><th>num_bc_sats</th><th>num_bc_tl</th><th>num_il_tl</th><th>num_op_rev_tl</th><th>num_rev_accts</th><th>num_rev_tl_bal_gt_0</th><th>num_sats</th><th>num_tl_120dpd_2m</th><th>num_tl_30dpd</th><th>num_tl_90g_dpd_24m</th><th>num_tl_op_past_12m</th><th>pct_tl_nvr_dlq</th><th>percent_bc_gt_75</th><th>pub_rec_bankruptcies</th><th>tax_liens</th><th>tot_hi_cred_lim</th><th>total_bal_ex_mort</th><th>total_bc_limit</th><th>total_il_high_credit_limit</th><th>revol_bal_joint</th><th>sec_app_fico_range_low</th><th>sec_app_fico_range_high</th><th>sec_app_inq_last_6mths</th><th>sec_app_mort_acc</th><th>sec_app_open_acc</th><th>sec_app_revol_util</th><th>sec_app_open_act_il</th><th>sec_app_num_rev_accts</th><th>sec_app_mths_since_last_major_derog</th><th>disbursement_method</th><th>debt_settlement_flag</th><th>term_in_months</th><th>emp_duration</th><th>sub_grade_indexed</th><th>home_ownership_indexed</th><th>sub_grade_indexed_encoded</th><th>home_ownership_indexed_encoded</th><th>features</th></tr><tr><td>118184277</td><td>4500.0</td><td>4500.0</td><td>7.07</td><td>139.1</td><td>A2</td><td>RENT</td><td>40400.0</td><td>Not Verified</td><td>Fully Paid</td><td>n</td><td>debt_consolidation</td><td>801xx</td><td>CO</td><td>12.0</td><td>0.0</td><td>740.0</td><td>744.0</td><td>0.0</td><td>0</td><td>83.0</td><td>10.0</td><td>1.0</td><td>1031.0</td><td>2.2</td><td>29.0</td><td>0.0</td><td>0.0</td><td>4809.8270961624</td><td>4809.83</td><td>4500.0</td><td>309.83</td><td>0.0</td><td>0.0</td><td>0.0</td><td>3136.06</td><td>729.0</td><td>725.0</td><td>0.0</td><td>0</td><td>1.0</td><td>Individual</td><td>0</td><td>0</td><td>Not Verified</td><td>0.0</td><td>0.0</td><td>16434.0</td><td>0.0</td><td>2.0</td><td>0.0</td><td>2.0</td><td>16.0</td><td>15403.0</td><td>73.0</td><td>1.0</td><td>3.0</td><td>900.0</td><td>24.0</td><td>47600.0</td><td>0.0</td><td>8.0</td><td>0.0</td><td>5.0</td><td>1643.0</td><td>40436.0</td><td>2.3</td><td>0.0</td><td>0.0</td><td>170.0</td><td>116.0</td><td>10.0</td><td>10.0</td><td>2.0</td><td>10.0</td><td>0.0</td><td>0.0</td><td>0.0</td><td>0.0</td><td>2.0</td><td>4.0</td><td>5.0</td><td>8.0</td><td>14.0</td><td>8.0</td><td>13.0</td><td>4.0</td><td>10.0</td><td>0.0</td><td>0.0</td><td>0.0</td><td>1.0</td><td>100.0</td><td>0.0</td><td>1.0</td><td>0.0</td><td>68759.0</td><td>16434.0</td><td>41400.0</td><td>21159.0</td><td>0.0</td><td>0.0</td><td>0.0</td><td>0.0</td><td>0.0</td><td>0.0</td><td>0.0</td><td>0.0</td><td>0.0</td><td>0.0</td><td>Cash</td><td>N</td><td>36</td><td>3</td><td>16.0</td><td>1.0</td><td>(35,[16],[1.0])</td><td>(6,[1],[1.0])</td><td>(41,[16,36],[1.0,...</td></tr><tr><td>117289602</td><td>4000.0</td><td>4000.0</td><td>9.93</td><td>128.94</td><td>B2</td><td>MORTGAGE</td><td>53000.0</td><td>Source Verified</td><td>Current</td><td>n</td><td>credit_card</td><td>720xx</td><td>AR</td><td>20.99</td><td>1.0</td><td>665.0</td><td>669.0</td><td>0.0</td><td>12.0</td><td>0</td><td>4.0</td><td>0.0</td><td>6296.0</td><td>80.7</td><td>14.0</td><td>2148.01</td><td>2148.01</td><td>2318.71</td><td>2318.71</td><td>1851.99</td><td>466.72</td><td>0.0</td><td>0.0</td><td>0.0</td><td>128.94</td><td>569.0</td><td>565.0</td><td>0.0</td><td>31.0</td><td>1.0</td><td>Individual</td><td>0</td><td>0</td><td>Not Verified</td><td>0.0</td><td>0.0</td><td>48764.0</td><td>0.0</td><td>1.0</td><td>0.0</td><td>0.0</td><td>48.0</td><td>42468.0</td><td>0</td><td>0.0</td><td>0.0</td><td>3093.0</td><td>81.0</td><td>7800.0</td><td>2.0</td><td>1.0</td><td>4.0</td><td>0.0</td><td>12191.0</td><td>354.0</td><td>94.5</td><td>0.0</td><td>0.0</td><td>187.0</td><td>146.0</td><td>60.0</td><td>48.0</td><td>0.0</td><td>108.0</td><td>0.0</td><td>0.0</td><td>12.0</td><td>3.0</td><td>2.0</td><td>3.0</td><td>2.0</td><td>5.0</td><td>4.0</td><td>3.0</td><td>10.0</td><td>3.0</td><td>4.0</td><td>0.0</td><td>0.0</td><td>0.0</td><td>0.0</td><td>71.4</td><td>100.0</td><td>0.0</td><td>0.0</td><td>63143.0</td><td>48764.0</td><td>6400.0</td><td>55343.0</td><td>0.0</td><td>0.0</td><td>0.0</td><td>0.0</td><td>0.0</td><td>0.0</td><td>0.0</td><td>0.0</td><td>0.0</td><td>0.0</td><td>Cash</td><td>N</td><td>36</td><td>10</td><td>7.0</td><td>0.0</td><td>(35,[7],[1.0])</td><td>(6,[0],[1.0])</td><td>(41,[7,35],[1.0,1...</td></tr></table><br /><pre>only showing top 2 rows</pre>"
      ],
      "text/plain": [
       "<IPython.core.display.HTML object>"
      ]
     },
     "metadata": {},
     "output_type": "display_data"
    }
   ],
   "source": [
    "%%pretty\n",
    "df.show(2)"
   ]
  },
  {
   "cell_type": "code",
   "execution_count": null,
   "id": "5f7d6a3f",
   "metadata": {},
   "outputs": [],
   "source": []
  },
  {
   "cell_type": "markdown",
   "id": "f5ce817b",
   "metadata": {},
   "source": [
    "# Code Archive\n"
   ]
  },
  {
   "cell_type": "code",
   "execution_count": null,
   "id": "546eaaec",
   "metadata": {},
   "outputs": [],
   "source": [
    "def histogram(df, col, bins=10, xname=None, yname=None, title = None):\n",
    "    \n",
    "    '''\n",
    "    This function makes a histogram from spark dataframe named \n",
    "    df for column name col. \n",
    "    '''\n",
    "    \n",
    "    # Calculating histogram in Spark \n",
    "    vals = df.select(col).rdd.flatMap(lambda x: x).histogram(bins)\n",
    "    \n",
    "    # Preprocessing histogram points and locations \n",
    "    width = vals[0][1] - vals[0][0]\n",
    "    loc = [vals[0][0] + (i+1) * width for i in range(len(vals[1]))]\n",
    "    \n",
    "    # Making a bar plot \n",
    "    plt.figure().clear()\n",
    "    plt.bar(loc, vals[1], width=width)\n",
    "    plt.xlabel(xname)\n",
    "    plt.ylabel(yname)\n",
    "    plt.title(title)\n",
    "\n",
    "    plt.show()"
   ]
  }
 ],
 "metadata": {
  "kernelspec": {
   "display_name": "PySpark",
   "language": "python",
   "name": "pysparkkernel"
  },
  "language_info": {
   "codemirror_mode": {
    "name": "python",
    "version": 3
   },
   "file_extension": ".py",
   "mimetype": "text/x-python",
   "name": "pyspark",
   "pygments_lexer": "python3"
  }
 },
 "nbformat": 4,
 "nbformat_minor": 5
}
